{
 "cells": [
  {
   "cell_type": "code",
   "execution_count": 1,
   "id": "8c944740",
   "metadata": {},
   "outputs": [
    {
     "data": {
      "text/html": [
       "<div>\n",
       "<style scoped>\n",
       "    .dataframe tbody tr th:only-of-type {\n",
       "        vertical-align: middle;\n",
       "    }\n",
       "\n",
       "    .dataframe tbody tr th {\n",
       "        vertical-align: top;\n",
       "    }\n",
       "\n",
       "    .dataframe thead th {\n",
       "        text-align: right;\n",
       "    }\n",
       "</style>\n",
       "<table border=\"1\" class=\"dataframe\">\n",
       "  <thead>\n",
       "    <tr style=\"text-align: right;\">\n",
       "      <th></th>\n",
       "      <th>republican</th>\n",
       "      <th>n</th>\n",
       "      <th>y</th>\n",
       "      <th>n.1</th>\n",
       "      <th>y.1</th>\n",
       "      <th>y.2</th>\n",
       "      <th>y.3</th>\n",
       "      <th>n.2</th>\n",
       "      <th>n.3</th>\n",
       "      <th>n.4</th>\n",
       "      <th>y.4</th>\n",
       "      <th>?</th>\n",
       "      <th>y.5</th>\n",
       "      <th>y.6</th>\n",
       "      <th>y.7</th>\n",
       "      <th>n.5</th>\n",
       "      <th>y.8</th>\n",
       "    </tr>\n",
       "  </thead>\n",
       "  <tbody>\n",
       "    <tr>\n",
       "      <th>0</th>\n",
       "      <td>republican</td>\n",
       "      <td>n</td>\n",
       "      <td>y</td>\n",
       "      <td>n</td>\n",
       "      <td>y</td>\n",
       "      <td>y</td>\n",
       "      <td>y</td>\n",
       "      <td>n</td>\n",
       "      <td>n</td>\n",
       "      <td>n</td>\n",
       "      <td>n</td>\n",
       "      <td>n</td>\n",
       "      <td>y</td>\n",
       "      <td>y</td>\n",
       "      <td>y</td>\n",
       "      <td>n</td>\n",
       "      <td>?</td>\n",
       "    </tr>\n",
       "    <tr>\n",
       "      <th>1</th>\n",
       "      <td>democrat</td>\n",
       "      <td>?</td>\n",
       "      <td>y</td>\n",
       "      <td>y</td>\n",
       "      <td>?</td>\n",
       "      <td>y</td>\n",
       "      <td>y</td>\n",
       "      <td>n</td>\n",
       "      <td>n</td>\n",
       "      <td>n</td>\n",
       "      <td>n</td>\n",
       "      <td>y</td>\n",
       "      <td>n</td>\n",
       "      <td>y</td>\n",
       "      <td>y</td>\n",
       "      <td>n</td>\n",
       "      <td>n</td>\n",
       "    </tr>\n",
       "    <tr>\n",
       "      <th>2</th>\n",
       "      <td>democrat</td>\n",
       "      <td>n</td>\n",
       "      <td>y</td>\n",
       "      <td>y</td>\n",
       "      <td>n</td>\n",
       "      <td>?</td>\n",
       "      <td>y</td>\n",
       "      <td>n</td>\n",
       "      <td>n</td>\n",
       "      <td>n</td>\n",
       "      <td>n</td>\n",
       "      <td>y</td>\n",
       "      <td>n</td>\n",
       "      <td>y</td>\n",
       "      <td>n</td>\n",
       "      <td>n</td>\n",
       "      <td>y</td>\n",
       "    </tr>\n",
       "    <tr>\n",
       "      <th>3</th>\n",
       "      <td>democrat</td>\n",
       "      <td>y</td>\n",
       "      <td>y</td>\n",
       "      <td>y</td>\n",
       "      <td>n</td>\n",
       "      <td>y</td>\n",
       "      <td>y</td>\n",
       "      <td>n</td>\n",
       "      <td>n</td>\n",
       "      <td>n</td>\n",
       "      <td>n</td>\n",
       "      <td>y</td>\n",
       "      <td>?</td>\n",
       "      <td>y</td>\n",
       "      <td>y</td>\n",
       "      <td>y</td>\n",
       "      <td>y</td>\n",
       "    </tr>\n",
       "    <tr>\n",
       "      <th>4</th>\n",
       "      <td>democrat</td>\n",
       "      <td>n</td>\n",
       "      <td>y</td>\n",
       "      <td>y</td>\n",
       "      <td>n</td>\n",
       "      <td>y</td>\n",
       "      <td>y</td>\n",
       "      <td>n</td>\n",
       "      <td>n</td>\n",
       "      <td>n</td>\n",
       "      <td>n</td>\n",
       "      <td>n</td>\n",
       "      <td>n</td>\n",
       "      <td>y</td>\n",
       "      <td>y</td>\n",
       "      <td>y</td>\n",
       "      <td>y</td>\n",
       "    </tr>\n",
       "  </tbody>\n",
       "</table>\n",
       "</div>"
      ],
      "text/plain": [
       "   republican  n  y n.1 y.1 y.2 y.3 n.2 n.3 n.4 y.4  ? y.5 y.6 y.7 n.5 y.8\n",
       "0  republican  n  y   n   y   y   y   n   n   n   n  n   y   y   y   n   ?\n",
       "1    democrat  ?  y   y   ?   y   y   n   n   n   n  y   n   y   y   n   n\n",
       "2    democrat  n  y   y   n   ?   y   n   n   n   n  y   n   y   n   n   y\n",
       "3    democrat  y  y   y   n   y   y   n   n   n   n  y   ?   y   y   y   y\n",
       "4    democrat  n  y   y   n   y   y   n   n   n   n  n   n   y   y   y   y"
      ]
     },
     "execution_count": 1,
     "metadata": {},
     "output_type": "execute_result"
    }
   ],
   "source": [
    "import pandas as pd\n",
    "#read in the data\n",
    "data = pd.read_csv(\"house-votes-84 (1).data\",sep = \",\")\n",
    "data.head()"
   ]
  },
  {
   "cell_type": "code",
   "execution_count": 2,
   "id": "fc8c7b2f",
   "metadata": {},
   "outputs": [
    {
     "data": {
      "text/html": [
       "<div>\n",
       "<style scoped>\n",
       "    .dataframe tbody tr th:only-of-type {\n",
       "        vertical-align: middle;\n",
       "    }\n",
       "\n",
       "    .dataframe tbody tr th {\n",
       "        vertical-align: top;\n",
       "    }\n",
       "\n",
       "    .dataframe thead th {\n",
       "        text-align: right;\n",
       "    }\n",
       "</style>\n",
       "<table border=\"1\" class=\"dataframe\">\n",
       "  <thead>\n",
       "    <tr style=\"text-align: right;\">\n",
       "      <th></th>\n",
       "      <th>republican</th>\n",
       "      <th>n</th>\n",
       "      <th>y</th>\n",
       "      <th>n.1</th>\n",
       "      <th>y.1</th>\n",
       "      <th>y.2</th>\n",
       "      <th>y.3</th>\n",
       "      <th>n.2</th>\n",
       "      <th>n.3</th>\n",
       "      <th>n.4</th>\n",
       "      <th>y.4</th>\n",
       "      <th>?</th>\n",
       "      <th>y.5</th>\n",
       "      <th>y.6</th>\n",
       "      <th>y.7</th>\n",
       "      <th>n.5</th>\n",
       "      <th>y.8</th>\n",
       "    </tr>\n",
       "  </thead>\n",
       "  <tbody>\n",
       "    <tr>\n",
       "      <th>0</th>\n",
       "      <td>0</td>\n",
       "      <td>0</td>\n",
       "      <td>1</td>\n",
       "      <td>0</td>\n",
       "      <td>1</td>\n",
       "      <td>1</td>\n",
       "      <td>1</td>\n",
       "      <td>0</td>\n",
       "      <td>0</td>\n",
       "      <td>0</td>\n",
       "      <td>0</td>\n",
       "      <td>0</td>\n",
       "      <td>1</td>\n",
       "      <td>1</td>\n",
       "      <td>1</td>\n",
       "      <td>0</td>\n",
       "      <td>-1</td>\n",
       "    </tr>\n",
       "    <tr>\n",
       "      <th>1</th>\n",
       "      <td>1</td>\n",
       "      <td>-1</td>\n",
       "      <td>1</td>\n",
       "      <td>1</td>\n",
       "      <td>-1</td>\n",
       "      <td>1</td>\n",
       "      <td>1</td>\n",
       "      <td>0</td>\n",
       "      <td>0</td>\n",
       "      <td>0</td>\n",
       "      <td>0</td>\n",
       "      <td>1</td>\n",
       "      <td>0</td>\n",
       "      <td>1</td>\n",
       "      <td>1</td>\n",
       "      <td>0</td>\n",
       "      <td>0</td>\n",
       "    </tr>\n",
       "    <tr>\n",
       "      <th>2</th>\n",
       "      <td>1</td>\n",
       "      <td>0</td>\n",
       "      <td>1</td>\n",
       "      <td>1</td>\n",
       "      <td>0</td>\n",
       "      <td>-1</td>\n",
       "      <td>1</td>\n",
       "      <td>0</td>\n",
       "      <td>0</td>\n",
       "      <td>0</td>\n",
       "      <td>0</td>\n",
       "      <td>1</td>\n",
       "      <td>0</td>\n",
       "      <td>1</td>\n",
       "      <td>0</td>\n",
       "      <td>0</td>\n",
       "      <td>1</td>\n",
       "    </tr>\n",
       "    <tr>\n",
       "      <th>3</th>\n",
       "      <td>1</td>\n",
       "      <td>1</td>\n",
       "      <td>1</td>\n",
       "      <td>1</td>\n",
       "      <td>0</td>\n",
       "      <td>1</td>\n",
       "      <td>1</td>\n",
       "      <td>0</td>\n",
       "      <td>0</td>\n",
       "      <td>0</td>\n",
       "      <td>0</td>\n",
       "      <td>1</td>\n",
       "      <td>-1</td>\n",
       "      <td>1</td>\n",
       "      <td>1</td>\n",
       "      <td>1</td>\n",
       "      <td>1</td>\n",
       "    </tr>\n",
       "    <tr>\n",
       "      <th>4</th>\n",
       "      <td>1</td>\n",
       "      <td>0</td>\n",
       "      <td>1</td>\n",
       "      <td>1</td>\n",
       "      <td>0</td>\n",
       "      <td>1</td>\n",
       "      <td>1</td>\n",
       "      <td>0</td>\n",
       "      <td>0</td>\n",
       "      <td>0</td>\n",
       "      <td>0</td>\n",
       "      <td>0</td>\n",
       "      <td>0</td>\n",
       "      <td>1</td>\n",
       "      <td>1</td>\n",
       "      <td>1</td>\n",
       "      <td>1</td>\n",
       "    </tr>\n",
       "  </tbody>\n",
       "</table>\n",
       "</div>"
      ],
      "text/plain": [
       "   republican  n  y  n.1  y.1  y.2  y.3  n.2  n.3  n.4  y.4  ?  y.5  y.6  y.7  \\\n",
       "0           0  0  1    0    1    1    1    0    0    0    0  0    1    1    1   \n",
       "1           1 -1  1    1   -1    1    1    0    0    0    0  1    0    1    1   \n",
       "2           1  0  1    1    0   -1    1    0    0    0    0  1    0    1    0   \n",
       "3           1  1  1    1    0    1    1    0    0    0    0  1   -1    1    1   \n",
       "4           1  0  1    1    0    1    1    0    0    0    0  0    0    1    1   \n",
       "\n",
       "   n.5  y.8  \n",
       "0    0   -1  \n",
       "1    0    0  \n",
       "2    0    1  \n",
       "3    1    1  \n",
       "4    1    1  "
      ]
     },
     "execution_count": 2,
     "metadata": {},
     "output_type": "execute_result"
    }
   ],
   "source": [
    "#to change \"?\" with -1\n",
    "cleanup_nums = {\"republican\":     {\"republican\": 0, \"democrat\": 1}, \"n\": {\"n\": 0, \"y\": 1, \"?\": -1 }, \"y\":{\"n\":0,\"y\":1,\"?\":-1},\n",
    "                \"n.1\": {\"n\": 0, \"y\": 1, \"?\": -1 },  \"y.1\":{\"n\":0,\"y\":1,\"?\":-1},\"n.2\": {\"n\": 0, \"y\": 1, \"?\": -1 },  \"y.2\":{\"n\":0,\"y\":1,\"?\":-1},\n",
    "                \"n.3\": {\"n\": 0, \"y\": 1, \"?\": -1 },  \"y.3\":{\"n\":0,\"y\":1,\"?\":-1},\"n.4\": {\"n\": 0, \"y\": 1, \"?\": -1 },  \"y.4\":{\"n\":0,\"y\":1,\"?\":-1},\"n.5\": {\"n\": 0, \"y\": 1, \"?\": -1 },  \"y.5\":{\"n\":0,\"y\":1,\"?\":-1},\"?\": {\"n\": 0, \"y\": 1, \"?\": -1 },  \"y.6\":{\"n\":0,\"y\":1,\"?\":-1},\"y.7\": {\"n\": 0, \"y\": 1, \"?\": -1 },  \"y.8\":{\"n\":0,\"y\":1,\"?\":-1}\n",
    "            }\n",
    "cleanup_nums\n",
    "#replacing\n",
    "obj_df = data.replace(cleanup_nums)\n",
    "obj_df.head()"
   ]
  },
  {
   "cell_type": "code",
   "execution_count": 3,
   "id": "f9de0911",
   "metadata": {},
   "outputs": [
    {
     "data": {
      "text/plain": [
       "0      0\n",
       "1      1\n",
       "2      1\n",
       "3      1\n",
       "4      1\n",
       "      ..\n",
       "429    0\n",
       "430    1\n",
       "431    0\n",
       "432    0\n",
       "433    0\n",
       "Name: republican, Length: 434, dtype: int64"
      ]
     },
     "execution_count": 3,
     "metadata": {},
     "output_type": "execute_result"
    }
   ],
   "source": [
    "\n",
    "x=obj_df.drop(['republican'],axis=1)\n",
    "x\n",
    "y=obj_df['republican']\n",
    "y"
   ]
  },
  {
   "cell_type": "markdown",
   "id": "d9223a32",
   "metadata": {},
   "source": [
    "### Split train by 25% and test 75%"
   ]
  },
  {
   "cell_type": "code",
   "execution_count": 4,
   "id": "b527530d",
   "metadata": {},
   "outputs": [
    {
     "data": {
      "text/plain": [
       "(     n  y  n.1  y.1  y.2  y.3  n.2  n.3  n.4  y.4  ?  y.5  y.6  y.7  n.5  y.8\n",
       " 196  0 -1    1    1    1    1    0    0    0    1  0    0    0    1    0    1\n",
       " 309  0  0    0    1    1    1    0    0    0    1  0    1    1    1    1    0\n",
       " 341  0  1    1    0    1   -1    1    0    0    1  1    0    1    0    1    1\n",
       " 391  1  1    0    1    1    1    0    0    0    0  1    1    1    1    0    1\n",
       " 250  0  1    0    1    1    1    0    0    0    0  0    1    1    1    0    0\n",
       " ..  .. ..  ...  ...  ...  ...  ...  ...  ...  ... ..  ...  ...  ...  ...  ...\n",
       " 343  0  0    1    0    0    0    1    1    1    1  1    0    0    0    1    1\n",
       " 359  1  0    1    0    0    1    1    1    1    1  0    0    1    0    0    1\n",
       " 323  0  1    0    1    1    1    0    0    0    0  1    1    1    1    0    0\n",
       " 280  1  0    1    1    1    1    1    1    0    0  0    0    0    1    0   -1\n",
       " 8    1  1    1    0    0    0    1    1    1    0  0    0    0    0   -1   -1\n",
       " \n",
       " [108 rows x 16 columns],\n",
       "      n  y  n.1  y.1  y.2  y.3  n.2  n.3  n.4  y.4  ?  y.5  y.6  y.7  n.5  y.8\n",
       " 134  0  0    0    1    1    1    0    0    0    1  0    1    1    1    0    0\n",
       " 348  0  1    1    1    1    1    1    1    1    0  0    1    1    1    0    1\n",
       " 108  1 -1    1    0    0    0    1    1    1    0  0    0    0    0    1   -1\n",
       " 23   1  0    1    0    0    0    1    1    1    0  0    0    0    0    1   -1\n",
       " 239  0  0    0    1    0    1    1   -1    1    0  0    1    1    1    0    1\n",
       " ..  .. ..  ...  ...  ...  ...  ...  ...  ...  ... ..  ...  ...  ...  ...  ...\n",
       " 262  1  0    1    0    0    0    1    1    1    0  0    0    0    0    1   -1\n",
       " 277  0  0    0    1    1    1    0    0    0    0  0    1    1    1    0    1\n",
       " 9    0  1    0    1    1    0    0    0    0    0 -1   -1    1    1    0    0\n",
       " 253  1  0    1    0    0    0    1    1    1    1  0    0    0    0    0    1\n",
       " 306  1  0    1    0    0    1    1    1    1    0  0    0    0    1    0   -1\n",
       " \n",
       " [326 rows x 16 columns],\n",
       " 196    0\n",
       " 309    0\n",
       " 341    1\n",
       " 391    0\n",
       " 250    0\n",
       "       ..\n",
       " 343    1\n",
       " 359    1\n",
       " 323    0\n",
       " 280    0\n",
       " 8      1\n",
       " Name: republican, Length: 108, dtype: int64,\n",
       " 134    0\n",
       " 348    0\n",
       " 108    1\n",
       " 23     1\n",
       " 239    0\n",
       "       ..\n",
       " 262    1\n",
       " 277    0\n",
       " 9      0\n",
       " 253    1\n",
       " 306    1\n",
       " Name: republican, Length: 326, dtype: int64)"
      ]
     },
     "execution_count": 4,
     "metadata": {},
     "output_type": "execute_result"
    }
   ],
   "source": [
    "from sklearn.model_selection import train_test_split\n",
    "X_train, X_test, y_train, y_test = train_test_split(x, y, test_size=0.75, random_state=100) # 25% training and 75% test\n",
    "X_train, X_test, y_train, y_test\n"
   ]
  },
  {
   "cell_type": "markdown",
   "id": "993939b9",
   "metadata": {},
   "source": [
    "## Rerun 3 times with random splits"
   ]
  },
  {
   "cell_type": "code",
   "execution_count": 5,
   "id": "5b065910",
   "metadata": {},
   "outputs": [
    {
     "data": {
      "text/plain": [
       "(     n  y  n.1  y.1  y.2  y.3  n.2  n.3  n.4  y.4  ?  y.5  y.6  y.7  n.5  y.8\n",
       " 75   0  1    1    0    1    1    0    0    0    1  1    1    1    1    0   -1\n",
       " 200  1  1    1    0    0    0    1    1    1    0  0    0    0    0    1    1\n",
       " 77   1  1    1    0    1    1    0    0    0    1  1    0    1    1    0    1\n",
       " 263  1  0    1    0    0    0    1    1    1    0  0    0    0    0    1   -1\n",
       " 427 -1 -1   -1    0    0    0    1    1    1    1  0    0    1    0    1    1\n",
       " ..  .. ..  ...  ...  ...  ...  ...  ...  ...  ... ..  ...  ...  ...  ...  ...\n",
       " 255  0  0    0    1    1    0    0    0    0    0  0    1    0    1    0    0\n",
       " 72   1  0    1    1    1    0    1    0    1    1  0    0    1    1    0    1\n",
       " 396  1  1    0    0    1   -1    0    0    0    0  1    0    1    1    0    1\n",
       " 235  0  0    1    0    0    0    1    1    1    0  0    0    0    0    1    1\n",
       " 37   0  1    0    1    1    1    0    0    0    1  0    1    1    1    0    0\n",
       " \n",
       " [108 rows x 16 columns],\n",
       "      n  y  n.1  y.1  y.2  y.3  n.2  n.3  n.4  y.4  ?  y.5  y.6  y.7  n.5  y.8\n",
       " 382  1  1    1    0    1    1    0    1    1    1  1    0    0    0    0    1\n",
       " 378  0  0    0    1    1    1    0    0    0    0  0    1    1    1    0    1\n",
       " 122  1 -1    0    1    1    1    0    1    0    0  0    1    1    1    0    1\n",
       " 238  0  0    0    1    1    1    1    0    0    1  0    0    0    1    1    1\n",
       " 208  1  1    1    0    0    0    1    1    1    1  1    0    0    0    0    1\n",
       " ..  .. ..  ...  ...  ...  ...  ...  ...  ...  ... ..  ...  ...  ...  ...  ...\n",
       " 329  0  1    0    1    1    1    0    0    0    1  0    1    1    1    0    0\n",
       " 36   1  1    0    1    1    1    0    0    0    0  0    0    1    1    0    1\n",
       " 387  0  1    1    1    1    1    0    0    0    0  0    1    1    1    0   -1\n",
       " 20   1  1    1    0    0    0    1    1    1    0  0    0   -1   -1    1    1\n",
       " 381  1  1    0    1    1    1    0    0    0    0  1    0    1    1    0   -1\n",
       " \n",
       " [326 rows x 16 columns],\n",
       " 75     1\n",
       " 200    1\n",
       " 77     1\n",
       " 263    1\n",
       " 427    1\n",
       "       ..\n",
       " 255    0\n",
       " 72     0\n",
       " 396    1\n",
       " 235    1\n",
       " 37     0\n",
       " Name: republican, Length: 108, dtype: int64,\n",
       " 382    1\n",
       " 378    0\n",
       " 122    0\n",
       " 238    0\n",
       " 208    1\n",
       "       ..\n",
       " 329    0\n",
       " 36     0\n",
       " 387    1\n",
       " 20     1\n",
       " 381    1\n",
       " Name: republican, Length: 326, dtype: int64)"
      ]
     },
     "execution_count": 5,
     "metadata": {},
     "output_type": "execute_result"
    }
   ],
   "source": [
    "X_train1, X_test1, y_train1, y_test1 = train_test_split(x, y, test_size=0.75, random_state=1) # 25% training and 75% test\n",
    "X_train1, X_test1, y_train1, y_test1\n"
   ]
  },
  {
   "cell_type": "code",
   "execution_count": 6,
   "id": "3d701bcc",
   "metadata": {},
   "outputs": [
    {
     "data": {
      "text/plain": [
       "(     n  y  n.1  y.1  y.2  y.3  n.2  n.3  n.4  y.4  ?  y.5  y.6  y.7  n.5  y.8\n",
       " 77   1  1    1    0    1    1    0    0    0    1  1    0    1    1    0    1\n",
       " 323  0  1    0    1    1    1    0    0    0    0  1    1    1    1    0    0\n",
       " 72   1  0    1    1    1    0    1    0    1    1  0    0    1    1    0    1\n",
       " 420  0  1    1    0    1    1    1    1    0    0  1    0    1    0    1    1\n",
       " 375  1 -1    1    0    0    0    1    1    1    0  1    0    0    0    1    1\n",
       " ..  .. ..  ...  ...  ...  ...  ...  ...  ...  ... ..  ...  ...  ...  ...  ...\n",
       " 350  0  0    1    1    1    1    1    1    1    1  0    1    1    1    1    1\n",
       " 251  1  1    1    0    0    1    1    1    1    0  0    0    0    0    1    1\n",
       " 192  0  0    1    0    0    0    1    1    1    0  0    0    0    0    1    1\n",
       " 71   1  1    1    0    0    0    1    1    1    0  1    0    0    0    1   -1\n",
       " 87   0  1    1    0    1    1    1    0    1    1  1    0    1    1    0    1\n",
       " \n",
       " [108 rows x 16 columns],\n",
       "      n  y  n.1  y.1  y.2  y.3  n.2  n.3  n.4  y.4  ?  y.5  y.6  y.7  n.5  y.8\n",
       " 132  0  0    0    1    1    1    0    0    0    1  0    1    1    1    0    1\n",
       " 22   1  1    1    0    0    0    1    1    1    0  0    0    0    0    1    1\n",
       " 198  1  1    0    0    0    0    1    1   -1    0  1    0    0    0    1   -1\n",
       " 92   1  0    1    0    0    0    1    0    1    1  1    0    0    0    1    1\n",
       " 95   0  0   -1    0    1    1    0    0    0    0  1    1    1    1    0    1\n",
       " ..  .. ..  ...  ...  ...  ...  ...  ...  ...  ... ..  ...  ...  ...  ...  ...\n",
       " 302  0  0    0    1    1    1    0    0    0    0  0    1    1    1    0    0\n",
       " 415  1  1    0    1    1    1    0    0    0    1  0    0    1    1    0    1\n",
       " 256  0  0    0    1    1    0    0    0    0    0  0    1    0    1   -1    1\n",
       " 146  0  0    0    0    0    0    1    1    1    1  0    1    1    1    1    1\n",
       " 199  0  0    1    0    0    0    1    1    1    0  0    0    0    1    1    1\n",
       " \n",
       " [326 rows x 16 columns],\n",
       " 77     1\n",
       " 323    0\n",
       " 72     0\n",
       " 420    1\n",
       " 375    1\n",
       "       ..\n",
       " 350    0\n",
       " 251    1\n",
       " 192    1\n",
       " 71     1\n",
       " 87     1\n",
       " Name: republican, Length: 108, dtype: int64,\n",
       " 132    0\n",
       " 22     1\n",
       " 198    1\n",
       " 92     1\n",
       " 95     1\n",
       "       ..\n",
       " 302    0\n",
       " 415    0\n",
       " 256    0\n",
       " 146    1\n",
       " 199    1\n",
       " Name: republican, Length: 326, dtype: int64)"
      ]
     },
     "execution_count": 6,
     "metadata": {},
     "output_type": "execute_result"
    }
   ],
   "source": [
    "X_train2, X_test2, y_train2, y_test2 = train_test_split(x, y, test_size=0.75, random_state=1000) # 25% training and 75% test\n",
    "X_train2, X_test2, y_train2, y_test2"
   ]
  },
  {
   "cell_type": "code",
   "execution_count": 7,
   "id": "40c53e7f",
   "metadata": {},
   "outputs": [
    {
     "data": {
      "text/plain": [
       "(     n  y  n.1  y.1  y.2  y.3  n.2  n.3  n.4  y.4  ?  y.5  y.6  y.7  n.5  y.8\n",
       " 357  1  1    1    0    0    1    1    1    1    1  1    1    1    1    0   -1\n",
       " 51   1  1    1    0    0    0    1    1    1    0  0    0    0    0   -1   -1\n",
       " 14   0  1    0    1    1    1    0    0    0    1  0    1    1   -1    0   -1\n",
       " 349  0  1    0    0    0    1    1    0    1    0  1    0    0    0    1    1\n",
       " 272  0  0    0    1    1    0    1    1    0    1  0    1    1    1   -1    1\n",
       " ..  .. ..  ...  ...  ...  ...  ...  ...  ...  ... ..  ...  ...  ...  ...  ...\n",
       " 369  1  1    1    0   -1    1    1    1    0    1 -1   -1    0    0    1    1\n",
       " 320  1  1    1    0    0    0    1    1    1    1  0    0    1    0    0    1\n",
       " 15   1  0    1    0    0    1    0    1   -1    1  1    1   -1    0    0    1\n",
       " 125  0 -1    0    1    1    1    0    0    0    0  0    1    1    1    0    0\n",
       " 265  0  0    0    1    1    1    0    0    0    1  0    1    0    1    0    1\n",
       " \n",
       " [108 rows x 16 columns],\n",
       "      n  y  n.1  y.1  y.2  y.3  n.2  n.3  n.4  y.4  ?  y.5  y.6  y.7  n.5  y.8\n",
       " 100  1  0    1    0    1    1    1    0    0    0  1    0    0    1    0    1\n",
       " 278  0  0    0    1    1    1    0    0    0    1  0    1    1    1    0    0\n",
       " 81   0  0    0    1    1    1    0    0    0    1  0    1    1    1    0    1\n",
       " 101  1  0    1    0    1    1    1    0   -1    0  1    0    1    1    1   -1\n",
       " 377  0  0    0    1    1    1    0    0    0    0  0    1    1    1    0    1\n",
       " ..  .. ..  ...  ...  ...  ...  ...  ...  ...  ... ..  ...  ...  ...  ...  ...\n",
       " 368  0  1    0    1    1    1    0    0    0    0  0    0    1    1    0    1\n",
       " 53   1  1    1    0    0    1   -1    1    0    0  1    1    0    1    0   -1\n",
       " 178  1  0    1    0    0    0    1    1    1    1  0    0    0    0    1    1\n",
       " 273  1  0    0    1    1    0    1    0    0    1  0    0    0    1    1    1\n",
       " 401 -1  0    1    1    0    1    1    1    1    1  0    1    0    1    0    1\n",
       " \n",
       " [326 rows x 16 columns],\n",
       " 357    1\n",
       " 51     1\n",
       " 14     0\n",
       " 349    1\n",
       " 272    0\n",
       "       ..\n",
       " 369    1\n",
       " 320    1\n",
       " 15     1\n",
       " 125    0\n",
       " 265    0\n",
       " Name: republican, Length: 108, dtype: int64,\n",
       " 100    1\n",
       " 278    0\n",
       " 81     0\n",
       " 101    1\n",
       " 377    0\n",
       "       ..\n",
       " 368    0\n",
       " 53     1\n",
       " 178    1\n",
       " 273    0\n",
       " 401    0\n",
       " Name: republican, Length: 326, dtype: int64)"
      ]
     },
     "execution_count": 7,
     "metadata": {},
     "output_type": "execute_result"
    }
   ],
   "source": [
    "X_train3, X_test3, y_train3, y_test3 = train_test_split(x, y, test_size=0.75, random_state=10) # 25% training and 75% test\n",
    "X_train3, X_test3, y_train3, y_test3"
   ]
  },
  {
   "cell_type": "markdown",
   "id": "5d37c89d",
   "metadata": {},
   "source": [
    "### function needed"
   ]
  },
  {
   "cell_type": "code",
   "execution_count": 8,
   "id": "c2b09117",
   "metadata": {},
   "outputs": [],
   "source": [
    "from sklearn.tree import DecisionTreeClassifier\n"
   ]
  },
  {
   "cell_type": "code",
   "execution_count": 9,
   "id": "e0538ffd",
   "metadata": {},
   "outputs": [],
   "source": [
    "# Function to perform training with entropy.\n",
    "def train_using_entropy(X_train, X_test, y_train):\n",
    "\n",
    "# Decision tree with entropy\n",
    "    clf_entropy = DecisionTreeClassifier(criterion = \"entropy\", random_state = 100, max_depth = 3, min_samples_leaf = 5)\n",
    "\n",
    "    # Performing training\n",
    "    clf_entropy.fit(X_train, y_train)\n",
    "    return clf_entropy"
   ]
  },
  {
   "cell_type": "code",
   "execution_count": 10,
   "id": "089a3f20",
   "metadata": {},
   "outputs": [],
   "source": [
    "# Function to make predictions\n",
    "def prediction(X_test, clf_object):\n",
    "\n",
    "    # Predicton on test with giniIndex\n",
    "    y_pred = clf_object.predict(X_test)\n",
    "    print(\"Predicted values:\")\n",
    "    print(y_pred)\n",
    "    return y_pred"
   ]
  },
  {
   "cell_type": "code",
   "execution_count": 11,
   "id": "b5deccf6",
   "metadata": {},
   "outputs": [],
   "source": [
    "from sklearn.metrics import accuracy_score\n",
    "from sklearn.metrics import classification_report"
   ]
  },
  {
   "cell_type": "code",
   "execution_count": 12,
   "id": "9c99ee94",
   "metadata": {},
   "outputs": [],
   "source": [
    "# Function to calculate accuracy\n",
    "def cal_accuracy(y_test, y_pred):\n",
    "    out=accuracy_score(y_test,y_pred)*100\n",
    "    print (\"Accuracy : \",out)\n",
    "    print(\"Report : \",\n",
    "    classification_report(y_test, y_pred))\n",
    "    return out"
   ]
  },
  {
   "cell_type": "code",
   "execution_count": 13,
   "id": "ee2c5f2e",
   "metadata": {},
   "outputs": [],
   "source": [
    "#creating trees for each experiements"
   ]
  },
  {
   "cell_type": "code",
   "execution_count": 14,
   "id": "be704571",
   "metadata": {},
   "outputs": [
    {
     "data": {
      "text/plain": [
       "DecisionTreeClassifier(criterion='entropy', max_depth=3, min_samples_leaf=5,\n",
       "                       random_state=100)"
      ]
     },
     "execution_count": 14,
     "metadata": {},
     "output_type": "execute_result"
    }
   ],
   "source": [
    "    \n",
    "    clf_entropy = train_using_entropy(X_train, X_test, y_train)\n",
    "    clf_entropy"
   ]
  },
  {
   "cell_type": "code",
   "execution_count": 15,
   "id": "01266049",
   "metadata": {},
   "outputs": [
    {
     "data": {
      "text/plain": [
       "DecisionTreeClassifier(criterion='entropy', max_depth=3, min_samples_leaf=5,\n",
       "                       random_state=100)"
      ]
     },
     "execution_count": 15,
     "metadata": {},
     "output_type": "execute_result"
    }
   ],
   "source": [
    "    clf_entropy1 = train_using_entropy(X_train1, X_test1, y_train1)\n",
    "    clf_entropy1"
   ]
  },
  {
   "cell_type": "code",
   "execution_count": 16,
   "id": "1aa1400b",
   "metadata": {},
   "outputs": [
    {
     "data": {
      "text/plain": [
       "DecisionTreeClassifier(criterion='entropy', max_depth=3, min_samples_leaf=5,\n",
       "                       random_state=100)"
      ]
     },
     "execution_count": 16,
     "metadata": {},
     "output_type": "execute_result"
    }
   ],
   "source": [
    "   clf_entropy2 = train_using_entropy(X_train2, X_test2, y_train2)\n",
    "clf_entropy2"
   ]
  },
  {
   "cell_type": "code",
   "execution_count": 17,
   "id": "0b62d72d",
   "metadata": {},
   "outputs": [
    {
     "data": {
      "text/plain": [
       "DecisionTreeClassifier(criterion='entropy', max_depth=3, min_samples_leaf=5,\n",
       "                       random_state=100)"
      ]
     },
     "execution_count": 17,
     "metadata": {},
     "output_type": "execute_result"
    }
   ],
   "source": [
    "    clf_entropy3 = train_using_entropy(X_train3, X_test3, y_train3)\n",
    "    clf_entropy3"
   ]
  },
  {
   "cell_type": "markdown",
   "id": "a888f1a9",
   "metadata": {},
   "source": [
    "### Report the sizes and accursies of these trees in each experiement"
   ]
  },
  {
   "cell_type": "code",
   "execution_count": 18,
   "id": "9ec52925",
   "metadata": {},
   "outputs": [
    {
     "name": "stdout",
     "output_type": "stream",
     "text": [
      "Results Using Entropy 25%:\n"
     ]
    }
   ],
   "source": [
    "  print(\"Results Using Entropy 25%:\")\n",
    "# Prediction using entropy"
   ]
  },
  {
   "cell_type": "code",
   "execution_count": null,
   "id": "360f1deb",
   "metadata": {},
   "outputs": [],
   "source": []
  },
  {
   "cell_type": "code",
   "execution_count": 19,
   "id": "6e379c3f",
   "metadata": {},
   "outputs": [
    {
     "name": "stdout",
     "output_type": "stream",
     "text": [
      "Predicted values:\n",
      "[0 0 1 1 0 1 0 1 1 0 0 0 0 1 1 0 0 0 0 0 1 0 1 0 0 0 0 1 1 0 0 1 0 1 0 0 1\n",
      " 0 0 1 0 1 1 1 1 1 1 0 1 0 0 0 0 1 1 0 0 0 1 1 1 1 0 1 1 1 1 1 1 1 1 0 1 1\n",
      " 1 1 1 0 1 1 1 1 1 0 0 1 1 1 0 1 0 0 1 1 1 1 0 0 1 0 1 1 1 1 0 1 0 1 1 1 1\n",
      " 0 0 1 0 0 1 0 1 0 1 1 1 1 0 1 1 0 1 0 1 1 0 1 1 1 0 1 1 0 0 1 1 0 0 1 0 1\n",
      " 1 1 1 1 1 0 1 1 1 0 0 1 0 0 0 1 1 1 0 0 0 1 1 0 1 1 1 1 1 1 1 1 1 1 1 1 1\n",
      " 0 0 1 1 1 1 0 1 1 1 0 1 1 0 0 1 1 0 1 0 1 1 0 0 1 0 1 0 0 1 1 1 0 1 0 0 0\n",
      " 0 1 0 1 0 1 1 1 0 0 0 0 0 0 0 1 1 1 1 1 1 1 1 0 1 0 1 1 0 0 1 1 0 1 1 1 1\n",
      " 1 0 0 0 0 1 0 0 0 1 1 1 0 0 1 0 1 1 0 1 1 1 1 1 1 1 0 1 1 0 1 1 0 0 1 1 1\n",
      " 1 1 1 0 0 1 1 1 1 1 1 1 0 0 1 1 1 0 0 1 0 1 0 0 0 1 0 0 1 1]\n",
      "Accuracy :  95.39877300613497\n",
      "Report :                precision    recall  f1-score   support\n",
      "\n",
      "           0       0.92      0.97      0.94       125\n",
      "           1       0.98      0.95      0.96       201\n",
      "\n",
      "    accuracy                           0.95       326\n",
      "   macro avg       0.95      0.96      0.95       326\n",
      "weighted avg       0.96      0.95      0.95       326\n",
      "\n",
      "95.39877300613497\n"
     ]
    }
   ],
   "source": [
    "y_pred_entropy = prediction(X_test, clf_entropy)\n",
    "print(cal_accuracy(y_test, y_pred_entropy))"
   ]
  },
  {
   "cell_type": "code",
   "execution_count": 20,
   "id": "fdd18ebc",
   "metadata": {},
   "outputs": [
    {
     "name": "stdout",
     "output_type": "stream",
     "text": [
      "Predicted values:\n",
      "[1 0 0 0 1 0 1 1 0 1 0 1 1 1 1 0 1 0 1 1 1 0 1 0 1 0 0 1 1 1 1 0 1 1 0 1 1\n",
      " 0 0 1 1 0 1 1 1 0 1 0 0 1 1 0 1 0 1 1 1 1 1 1 1 1 0 0 0 0 1 0 0 1 1 1 1 0\n",
      " 1 1 0 1 1 1 1 1 1 1 1 1 1 0 1 1 1 0 0 0 1 1 1 1 0 1 0 1 1 1 1 0 0 1 1 1 1\n",
      " 1 1 0 1 1 1 0 1 1 1 1 1 1 1 0 0 0 0 0 1 1 0 1 0 1 0 0 1 0 1 0 1 1 0 1 0 1\n",
      " 0 0 1 0 1 1 0 0 1 0 1 0 1 0 1 1 0 0 0 0 1 0 1 1 1 1 1 1 0 0 0 1 1 0 0 0 1\n",
      " 0 1 0 1 1 0 0 1 0 0 1 0 0 0 0 1 1 1 0 1 1 1 0 0 0 0 0 0 0 1 1 0 1 0 0 1 0\n",
      " 0 0 1 1 1 1 0 1 1 1 0 1 1 1 1 1 0 0 1 1 1 1 0 0 0 0 1 1 0 0 0 0 0 1 0 1 0\n",
      " 1 0 1 0 0 1 1 1 1 1 1 1 1 1 1 1 0 0 0 1 1 1 1 1 1 0 1 1 0 1 1 1 0 0 1 0 0\n",
      " 0 1 0 1 1 1 1 1 1 0 0 1 1 0 1 1 1 0 0 1 1 0 1 0 0 0 0 0 1 0]\n",
      "Accuracy :  95.70552147239265\n",
      "Report :                precision    recall  f1-score   support\n",
      "\n",
      "           0       0.92      0.98      0.95       129\n",
      "           1       0.98      0.94      0.96       197\n",
      "\n",
      "    accuracy                           0.96       326\n",
      "   macro avg       0.95      0.96      0.96       326\n",
      "weighted avg       0.96      0.96      0.96       326\n",
      "\n",
      "95.70552147239265\n"
     ]
    }
   ],
   "source": [
    "y_pred_entropy1 = prediction(X_test1, clf_entropy1)\n",
    "print(cal_accuracy(y_test1, y_pred_entropy1))"
   ]
  },
  {
   "cell_type": "code",
   "execution_count": 21,
   "id": "20f23f3d",
   "metadata": {},
   "outputs": [
    {
     "name": "stdout",
     "output_type": "stream",
     "text": [
      "Predicted values:\n",
      "[0 1 1 1 1 1 0 0 0 1 1 1 1 1 1 0 1 1 1 0 0 1 0 1 1 1 1 0 1 1 0 1 1 0 1 1 1\n",
      " 0 1 1 0 0 0 0 1 0 1 1 1 0 1 0 0 0 0 1 0 1 1 0 1 1 1 1 0 1 0 1 0 1 0 0 0 0\n",
      " 1 1 1 0 0 0 1 1 1 1 1 1 1 0 0 1 0 0 1 0 1 1 0 1 0 1 0 1 1 1 0 0 1 0 1 1 1\n",
      " 1 1 1 0 0 1 1 0 0 1 0 0 1 1 0 0 1 1 0 0 1 1 1 0 0 0 0 0 1 0 0 1 0 0 1 1 0\n",
      " 1 0 1 1 0 1 0 1 0 1 0 0 1 1 1 0 0 1 0 0 0 1 1 1 0 0 1 1 0 1 0 1 0 0 1 1 1\n",
      " 1 1 0 1 1 1 0 0 1 1 1 0 0 1 1 0 0 0 1 0 1 1 1 0 1 1 1 0 1 1 1 0 0 0 0 1 1\n",
      " 1 1 1 1 1 0 1 0 0 1 1 0 0 1 1 1 0 0 0 0 1 0 1 0 1 1 1 1 1 1 0 1 1 1 1 1 1\n",
      " 1 1 0 1 1 0 1 0 0 1 1 1 1 0 1 1 1 0 0 1 1 0 0 1 1 0 1 1 1 1 1 1 1 0 1 0 1\n",
      " 0 1 0 1 0 0 1 1 1 1 1 0 0 1 1 1 1 1 0 0 1 0 1 1 1 0 0 0 1 1]\n",
      "Accuracy :  95.0920245398773\n",
      "Report :                precision    recall  f1-score   support\n",
      "\n",
      "           0       0.92      0.96      0.94       127\n",
      "           1       0.97      0.94      0.96       199\n",
      "\n",
      "    accuracy                           0.95       326\n",
      "   macro avg       0.95      0.95      0.95       326\n",
      "weighted avg       0.95      0.95      0.95       326\n",
      "\n",
      "95.0920245398773\n"
     ]
    }
   ],
   "source": [
    "y_pred_entropy2 = prediction(X_test2, clf_entropy2)\n",
    "print(cal_accuracy(y_test2, y_pred_entropy2))"
   ]
  },
  {
   "cell_type": "code",
   "execution_count": 22,
   "id": "7deeb150",
   "metadata": {},
   "outputs": [
    {
     "name": "stdout",
     "output_type": "stream",
     "text": [
      "Predicted values:\n",
      "[1 0 0 1 0 1 0 0 1 0 0 0 1 1 1 0 1 1 0 0 0 1 1 1 1 1 0 0 1 0 1 1 1 1 1 0 1\n",
      " 1 1 0 1 1 1 1 0 1 0 0 0 0 1 1 1 0 1 1 1 1 0 1 0 1 1 1 1 1 1 1 1 0 1 0 0 1\n",
      " 1 0 0 0 0 0 1 1 1 0 1 0 0 1 1 1 1 0 1 1 0 0 0 1 1 0 1 0 1 1 1 1 1 1 0 1 0\n",
      " 1 1 0 1 0 1 0 0 0 0 0 0 0 1 1 0 1 0 1 1 0 1 1 1 1 0 0 1 0 0 1 1 1 0 1 1 0\n",
      " 0 1 1 1 1 1 1 1 1 1 1 1 1 0 1 0 1 1 0 1 1 0 1 1 1 0 1 0 0 1 0 0 1 1 1 1 0\n",
      " 1 0 0 1 1 0 1 1 1 1 1 1 0 1 0 1 0 1 0 1 1 1 0 0 1 1 1 0 1 1 0 1 1 1 1 0 1\n",
      " 1 1 0 0 0 1 0 0 0 1 1 1 1 1 0 0 0 0 1 1 1 1 1 1 0 1 0 1 1 0 1 1 1 1 1 0 0\n",
      " 1 0 1 1 1 0 0 1 0 1 0 1 1 0 1 1 1 1 1 1 0 1 0 0 1 1 0 0 1 1 0 1 1 0 0 1 0\n",
      " 1 1 1 0 1 0 0 0 1 1 1 1 1 1 1 1 1 1 1 1 0 1 1 1 1 0 1 1 0 0]\n",
      "Accuracy :  95.0920245398773\n",
      "Report :                precision    recall  f1-score   support\n",
      "\n",
      "           0       0.96      0.91      0.94       129\n",
      "           1       0.95      0.97      0.96       197\n",
      "\n",
      "    accuracy                           0.95       326\n",
      "   macro avg       0.95      0.94      0.95       326\n",
      "weighted avg       0.95      0.95      0.95       326\n",
      "\n",
      "95.0920245398773\n"
     ]
    }
   ],
   "source": [
    "y_pred_entropy3 = prediction(X_test3, clf_entropy3)\n",
    "print(cal_accuracy(y_test3, y_pred_entropy3))"
   ]
  },
  {
   "cell_type": "markdown",
   "id": "b58f6c5f",
   "metadata": {},
   "source": [
    "### Measure impact of training set size on the  acc and the size of the learned tree (30%-70%)"
   ]
  },
  {
   "cell_type": "code",
   "execution_count": 23,
   "id": "3731275c",
   "metadata": {},
   "outputs": [],
   "source": [
    "#30%"
   ]
  },
  {
   "cell_type": "code",
   "execution_count": 47,
   "id": "1eb471b4",
   "metadata": {},
   "outputs": [],
   "source": [
    "#create list for storing the accuracies.\n",
    "list2=[]"
   ]
  },
  {
   "cell_type": "markdown",
   "id": "1c5c4ebd",
   "metadata": {},
   "source": [
    "### Because of the high variance due to random splits repeat the experiment with five different random seeds for each training set size then report the mean, maximum and minimum accuracies at each training set size."
   ]
  },
  {
   "cell_type": "code",
   "execution_count": 48,
   "id": "e2d5828a",
   "metadata": {},
   "outputs": [],
   "source": [
    "import numpy as np\n",
    "import random\n",
    "\n",
    "def score(x,y,test_quota):\n",
    "    accuracy_list=[]\n",
    "    for i in range(5):    #Since we have to try with five different values \n",
    "        rand_num = random.randint(1, 100)    # Generates random numbers between 1 , 100\n",
    "        print(rand_num)\n",
    "        X_train, X_test, y_train, y_test = train_test_split(x, y, test_size=test_quota, random_state=rand_num)\n",
    "        clf_entropy = train_using_entropy(X_train, X_test, y_train)\n",
    "        y_pred_entropy = prediction(X_test, clf_entropy)\n",
    "        \n",
    "        accuracy_list.append(cal_accuracy(y_test, y_pred_entropy))\n",
    "        accuracy_np = np.array(accuracy_list)\n",
    "        if(i==4):\n",
    "            print(accuracy_list)\n",
    "            print(\"MAX IS : \", max(accuracy_list))\n",
    "            print(\"MIN IS :\", min(accuracy_list))\n",
    "            print(\"MEAN IS:\", np.mean(accuracy_np))\n",
    "            accuracy_list=[]\n",
    "        "
   ]
  },
  {
   "cell_type": "code",
   "execution_count": 49,
   "id": "c1d7ab32",
   "metadata": {},
   "outputs": [],
   "source": [
    "X_train30, X_test30, y_train30, y_test30 = train_test_split(x, y, test_size=0.70, random_state=100) # 30% training and 70% test"
   ]
  },
  {
   "cell_type": "code",
   "execution_count": 50,
   "id": "1b4141d6",
   "metadata": {},
   "outputs": [
    {
     "name": "stdout",
     "output_type": "stream",
     "text": [
      "Predicted values:\n",
      "[0 0 1 1 0 1 0 1 1 0 0 0 0 1 1 0 0 0 0 0 1 0 1 0 0 0 0 1 1 0 0 1 0 1 0 0 1\n",
      " 0 0 1 0 1 1 1 1 1 1 0 1 0 0 0 0 1 1 0 0 0 1 1 1 1 0 1 1 1 1 1 1 1 1 0 1 1\n",
      " 1 1 1 0 1 1 1 1 1 0 0 1 1 1 0 1 0 0 1 1 1 1 0 0 1 0 1 1 1 1 0 1 0 1 1 1 1\n",
      " 0 0 1 0 0 1 0 1 0 1 1 1 1 0 1 1 0 1 0 1 1 0 1 1 1 0 1 1 0 0 1 1 0 0 1 0 1\n",
      " 1 1 1 1 1 0 1 1 1 0 0 1 0 0 0 1 1 1 0 0 0 1 1 0 1 1 1 1 1 1 1 1 1 1 1 1 1\n",
      " 0 0 1 1 1 1 0 1 1 1 0 1 1 0 0 1 1 0 1 0 1 1 0 0 1 0 1 0 0 1 1 1 0 1 0 0 0\n",
      " 0 1 0 1 0 1 1 1 0 0 0 0 0 0 0 1 1 1 1 1 1 1 1 0 1 0 1 1 0 0 1 1 0 1 1 1 1\n",
      " 1 0 0 0 0 1 0 0 0 1 1 1 0 0 1 0 1 1 0 1 1 1 1 1 1 1 0 1 1 0 1 1 0 0 1 1 1\n",
      " 1 1 1 0 0 1 1 1]\n",
      "Accuracy :  95.39473684210526\n",
      "Report :                precision    recall  f1-score   support\n",
      "\n",
      "           0       0.92      0.97      0.94       116\n",
      "           1       0.98      0.95      0.96       188\n",
      "\n",
      "    accuracy                           0.95       304\n",
      "   macro avg       0.95      0.96      0.95       304\n",
      "weighted avg       0.96      0.95      0.95       304\n",
      "\n",
      "23\n",
      "Predicted values:\n",
      "[1 0 1 1 0 0 1 0 1 1 1 1 0 0 0 0 1 1 0 1 0 0 1 1 1 1 0 1 0 1 0 1 1 1 0 0 1\n",
      " 1 1 1 1 1 0 1 1 1 1 1 1 1 1 1 0 1 0 1 0 0 0 1 1 1 0 0 1 1 0 0 0 1 0 0 0 0\n",
      " 1 1 1 0 0 1 1 0 1 0 1 0 1 1 0 1 0 1 0 0 1 1 1 1 1 0 1 1 1 1 1 1 1 0 1 0 1\n",
      " 1 1 1 0 1 1 0 1 1 1 1 1 1 0 0 0 1 1 0 0 1 1 0 1 0 1 1 1 1 1 0 1 1 0 1 1 1\n",
      " 1 1 1 0 1 0 1 1 1 0 0 0 1 1 0 0 1 0 0 0 0 0 1 1 0 1 0 0 1 1 1 0 1 1 1 0 0\n",
      " 1 1 1 0 0 0 0 0 1 1 1 0 1 0 0 0 0 1 1 0 1 0 1 1 0 1 0 1 1 1 0 1 1 1 1 1 1\n",
      " 1 0 0 1 1 0 0 1 0 0 0 0 1 1 1 0 1 0 0 0 1 1 0 1 1 1 0 0 1 1 1 1 1 0 0 1 1\n",
      " 1 1 1 0 1 0 0 1 1 1 0 1 1 1 0 1 1 0 1 0 0 1 1 1 1 0 1 0 1 0 0 1 1 0 1 0 1\n",
      " 0 1 1 1 0 1 1 1]\n",
      "Accuracy :  96.38157894736842\n",
      "Report :                precision    recall  f1-score   support\n",
      "\n",
      "           0       0.93      0.98      0.95       113\n",
      "           1       0.99      0.95      0.97       191\n",
      "\n",
      "    accuracy                           0.96       304\n",
      "   macro avg       0.96      0.97      0.96       304\n",
      "weighted avg       0.97      0.96      0.96       304\n",
      "\n",
      "28\n",
      "Predicted values:\n",
      "[1 1 1 1 1 1 1 0 0 1 1 0 1 1 0 0 1 0 1 1 0 1 1 0 0 0 1 1 0 1 1 0 1 1 0 0 1\n",
      " 1 1 1 1 1 0 1 0 1 0 0 1 1 1 1 1 0 1 1 0 1 1 1 0 0 0 1 1 1 1 1 0 1 0 0 1 1\n",
      " 0 1 0 1 1 0 0 0 1 1 1 1 0 1 1 1 0 0 0 0 1 1 0 0 0 1 0 1 1 1 0 0 0 1 0 1 1\n",
      " 1 1 0 1 1 0 1 0 0 1 0 1 1 1 0 1 1 0 0 1 0 1 0 0 1 1 1 1 1 0 1 1 1 1 1 1 0\n",
      " 1 0 0 0 1 1 1 1 0 1 0 0 1 1 1 1 0 0 0 1 1 1 1 1 1 0 1 0 0 1 1 0 0 1 1 0 1\n",
      " 0 1 1 0 1 1 1 0 0 1 1 0 1 1 1 0 0 1 1 1 1 1 1 0 1 1 1 1 0 1 1 1 1 1 0 1 1\n",
      " 1 1 1 0 1 0 0 1 0 1 1 0 1 0 0 0 1 1 1 1 1 0 0 0 0 1 0 0 0 0 1 0 1 1 0 1 0\n",
      " 1 0 0 1 0 1 1 0 0 1 0 1 1 1 1 1 0 1 0 1 0 0 0 1 0 1 1 1 1 1 0 0 1 0 0 0 0\n",
      " 1 1 1 1 0 1 1 1]\n",
      "Accuracy :  95.06578947368422\n",
      "Report :                precision    recall  f1-score   support\n",
      "\n",
      "           0       0.91      0.96      0.94       113\n",
      "           1       0.98      0.94      0.96       191\n",
      "\n",
      "    accuracy                           0.95       304\n",
      "   macro avg       0.94      0.95      0.95       304\n",
      "weighted avg       0.95      0.95      0.95       304\n",
      "\n",
      "56\n",
      "Predicted values:\n",
      "[1 1 1 0 0 1 0 1 1 1 0 1 0 0 1 0 0 1 1 1 1 1 1 0 1 1 1 1 0 1 0 1 0 0 1 0 0\n",
      " 1 1 1 1 0 1 1 1 1 1 0 1 1 1 0 0 0 0 1 1 0 1 1 1 1 1 0 0 1 0 0 1 1 1 0 1 1\n",
      " 1 0 1 0 0 1 1 1 0 1 1 0 1 0 0 0 1 1 0 1 1 0 1 1 0 0 0 0 1 1 0 0 1 1 1 0 1\n",
      " 0 0 1 1 1 1 1 0 0 0 1 1 0 1 1 1 1 0 1 1 1 0 0 1 1 0 1 1 1 1 1 1 0 0 1 1 1\n",
      " 1 1 0 1 1 0 1 1 1 0 0 0 1 0 0 1 0 0 0 1 0 1 1 1 0 0 0 0 1 1 0 0 0 1 0 0 1\n",
      " 0 0 1 1 0 0 1 0 1 0 1 1 1 1 1 0 1 0 0 1 1 0 0 1 1 0 1 0 1 1 0 1 0 1 0 0 1\n",
      " 1 1 0 1 1 0 1 1 1 1 0 1 1 0 0 0 1 1 1 0 1 1 0 1 1 1 1 0 1 1 0 0 1 0 0 1 1\n",
      " 0 1 0 1 0 0 1 1 0 1 1 0 0 0 1 0 0 0 0 1 1 1 0 1 1 1 0 0 0 1 1 1 0 1 1 1 1\n",
      " 1 1 1 1 0 0 1 1]\n",
      "Accuracy :  96.05263157894737\n",
      "Report :                precision    recall  f1-score   support\n",
      "\n",
      "           0       0.93      0.97      0.95       119\n",
      "           1       0.98      0.95      0.97       185\n",
      "\n",
      "    accuracy                           0.96       304\n",
      "   macro avg       0.96      0.96      0.96       304\n",
      "weighted avg       0.96      0.96      0.96       304\n",
      "\n",
      "31\n",
      "Predicted values:\n",
      "[1 0 1 1 1 1 0 1 0 1 1 0 1 0 1 0 1 1 0 0 1 1 1 1 1 0 1 1 0 1 1 0 1 1 1 1 0\n",
      " 0 0 1 1 1 0 1 1 1 0 1 0 0 1 0 1 0 1 0 0 1 0 0 0 1 1 1 0 1 1 1 1 0 0 0 1 0\n",
      " 1 1 1 0 0 0 1 0 1 0 1 0 0 1 0 1 1 1 0 1 1 1 0 1 1 1 0 1 1 1 0 1 0 0 1 1 0\n",
      " 0 1 1 0 0 1 1 1 1 1 0 1 1 1 1 1 0 0 1 0 1 1 1 1 1 1 0 1 1 0 1 1 1 1 0 1 1\n",
      " 1 0 0 1 1 1 1 1 0 0 1 1 1 0 0 1 1 1 0 0 0 1 0 0 1 0 1 1 1 1 0 0 1 1 0 0 0\n",
      " 1 1 1 0 1 0 1 1 1 1 0 1 1 0 0 1 1 0 1 1 1 1 0 1 1 1 0 1 1 1 1 1 0 1 1 1 0\n",
      " 0 0 0 1 1 1 1 0 1 0 1 1 0 0 0 1 1 0 1 0 1 0 0 0 1 0 0 0 1 0 0 1 0 1 1 1 0\n",
      " 0 1 1 0 1 1 1 0 1 1 0 0 1 0 1 1 1 1 0 1 0 0 0 1 1 1 0 0 1 1 1 0 0 1 0 0 0\n",
      " 0 1 0 1 1 1 0 1]\n",
      "Accuracy :  95.72368421052632\n",
      "Report :                precision    recall  f1-score   support\n",
      "\n",
      "           0       0.92      0.97      0.95       115\n",
      "           1       0.98      0.95      0.96       189\n",
      "\n",
      "    accuracy                           0.96       304\n",
      "   macro avg       0.95      0.96      0.96       304\n",
      "weighted avg       0.96      0.96      0.96       304\n",
      "\n",
      "43\n",
      "Predicted values:\n",
      "[1 1 1 0 1 0 0 1 0 0 0 1 0 1 1 0 0 0 0 0 1 1 0 1 0 1 1 1 1 0 1 1 0 1 1 0 1\n",
      " 0 1 1 1 0 1 0 1 1 0 0 0 0 1 0 0 1 0 0 0 1 0 0 0 1 1 1 1 0 1 0 1 1 1 0 1 0\n",
      " 1 0 1 0 1 1 1 1 0 1 0 1 0 1 0 0 1 1 0 0 1 1 1 1 0 0 0 1 0 0 1 1 1 1 0 1 1\n",
      " 1 1 0 1 0 1 1 1 1 0 1 1 0 1 0 0 1 0 1 1 1 0 1 1 1 1 1 1 1 1 1 0 0 1 1 1 1\n",
      " 1 1 1 0 0 0 0 0 1 1 1 0 0 0 1 0 1 1 1 0 0 1 1 0 1 0 1 0 1 1 0 1 0 0 1 1 1\n",
      " 0 0 0 1 1 1 1 0 0 1 0 1 1 1 1 0 0 0 1 1 1 0 1 1 1 1 0 0 0 0 1 1 1 0 0 0 0\n",
      " 1 1 0 1 0 1 1 1 1 0 0 1 1 0 1 1 1 0 1 1 0 1 1 1 0 0 0 0 1 0 1 0 0 0 0 1 0\n",
      " 1 1 1 1 1 0 1 1 1 0 1 0 1 1 0 1 1 1 0 0 1 0 1 0 1 1 1 1 0 1 1 1 1 1 0 0 1\n",
      " 1 0 0 1 0 0 1 1]\n",
      "Accuracy :  95.06578947368422\n",
      "Report :                precision    recall  f1-score   support\n",
      "\n",
      "           0       0.91      0.97      0.94       119\n",
      "           1       0.98      0.94      0.96       185\n",
      "\n",
      "    accuracy                           0.95       304\n",
      "   macro avg       0.94      0.95      0.95       304\n",
      "weighted avg       0.95      0.95      0.95       304\n",
      "\n",
      "[96.38157894736842, 95.06578947368422, 96.05263157894737, 95.72368421052632, 95.06578947368422]\n",
      "MAX IS :  96.38157894736842\n",
      "MIN IS : 95.06578947368422\n",
      "MEAN IS: 95.65789473684211\n"
     ]
    }
   ],
   "source": [
    "clf_entropy30 = train_using_entropy(X_train30, X_test30, y_train30)\n",
    "y_pred_entropy30 = prediction(X_test30, clf_entropy30)\n",
    "#print(y_pred_entropy30.shape)\n",
    "#print(y_test30.shape)\n",
    "#print(y_train30.shape)\n",
    "#print(cal_accuracy(y_test30, y_pred_entropy30))\n",
    "\n",
    "list2.append(cal_accuracy(y_test30, y_pred_entropy30))\n",
    "\n",
    "score(x,y, 0.70)"
   ]
  },
  {
   "cell_type": "code",
   "execution_count": 51,
   "id": "7cc66866",
   "metadata": {},
   "outputs": [],
   "source": [
    "#40%"
   ]
  },
  {
   "cell_type": "code",
   "execution_count": 52,
   "id": "77ad9ea3",
   "metadata": {},
   "outputs": [],
   "source": [
    "X_train40, X_test40, y_train40, y_test40 = train_test_split(x, y, test_size=0.60, random_state=100) # 60% training and 40% test"
   ]
  },
  {
   "cell_type": "code",
   "execution_count": 53,
   "id": "1e56f6c5",
   "metadata": {},
   "outputs": [
    {
     "name": "stdout",
     "output_type": "stream",
     "text": [
      "Predicted values:\n",
      "[0 0 1 1 0 1 0 1 1 0 0 0 0 1 1 0 0 0 0 0 1 0 1 0 0 0 0 1 1 0 0 1 0 1 0 0 1\n",
      " 0 0 1 0 1 1 1 1 1 1 0 1 0 0 0 0 1 1 0 0 0 1 1 1 1 0 1 1 1 1 1 1 1 1 0 1 1\n",
      " 1 1 1 0 1 1 1 1 1 0 0 1 1 1 0 1 0 0 1 1 1 1 0 0 1 1 1 1 1 1 0 1 0 1 1 1 1\n",
      " 0 0 1 0 0 1 0 1 0 1 1 1 1 0 1 1 0 1 0 1 1 0 1 1 1 0 1 1 0 0 1 1 1 0 1 0 1\n",
      " 1 1 1 1 1 0 1 1 1 0 0 1 0 0 0 1 1 1 0 0 0 1 1 0 1 1 1 1 1 1 1 1 1 1 1 1 1\n",
      " 0 0 1 1 1 1 0 1 1 1 0 1 1 0 0 1 1 0 1 0 1 1 0 0 1 0 1 0 0 1 1 1 0 1 0 1 0\n",
      " 0 1 0 1 0 1 1 1 0 0 0 0 0 0 0 1 1 1 1 1 1 1 1 0 1 0 1 1 0 0 1 1 0 1 1 1 1\n",
      " 1 0]\n",
      "Accuracy :  95.40229885057471\n",
      "Report :                precision    recall  f1-score   support\n",
      "\n",
      "           0       0.93      0.95      0.94       101\n",
      "           1       0.97      0.96      0.96       160\n",
      "\n",
      "    accuracy                           0.95       261\n",
      "   macro avg       0.95      0.95      0.95       261\n",
      "weighted avg       0.95      0.95      0.95       261\n",
      "\n",
      "95.40229885057471\n",
      "Accuracy :  95.40229885057471\n",
      "Report :                precision    recall  f1-score   support\n",
      "\n",
      "           0       0.93      0.95      0.94       101\n",
      "           1       0.97      0.96      0.96       160\n",
      "\n",
      "    accuracy                           0.95       261\n",
      "   macro avg       0.95      0.95      0.95       261\n",
      "weighted avg       0.95      0.95      0.95       261\n",
      "\n",
      "list2 is [95.39473684210526, 95.40229885057471]\n",
      "51\n",
      "Predicted values:\n",
      "[1 1 0 1 0 0 0 1 1 1 1 1 1 1 1 0 0 1 1 0 1 1 1 1 0 1 0 1 0 1 0 0 1 0 0 0 1\n",
      " 1 1 0 0 1 1 1 0 1 1 1 1 1 1 1 0 0 0 0 0 0 0 0 1 1 0 1 1 1 1 0 1 1 0 0 1 0\n",
      " 1 1 1 1 1 0 1 0 0 0 1 1 1 1 0 1 1 1 0 1 1 0 1 0 1 1 0 1 1 1 1 1 1 0 0 1 1\n",
      " 1 0 1 1 0 0 0 1 1 0 1 1 0 1 0 0 1 1 1 0 0 1 1 1 0 0 1 1 0 0 1 1 1 1 1 1 0\n",
      " 0 1 1 1 1 1 1 0 0 0 1 1 0 1 0 1 1 1 0 1 0 0 1 1 0 1 1 0 1 0 1 1 1 1 0 1 1\n",
      " 1 0 1 1 1 1 0 1 0 1 0 1 1 1 1 1 0 1 1 1 1 1 0 0 0 0 1 1 1 1 1 1 1 0 1 0 1\n",
      " 1 1 1 0 1 1 0 1 1 0 0 1 1 1 1 0 0 1 1 1 1 1 1 0 1 1 0 1 0 1 1 0 1 1 1 0 0\n",
      " 0 1]\n",
      "Accuracy :  95.78544061302682\n",
      "Report :                precision    recall  f1-score   support\n",
      "\n",
      "           0       0.95      0.94      0.94        95\n",
      "           1       0.96      0.97      0.97       166\n",
      "\n",
      "    accuracy                           0.96       261\n",
      "   macro avg       0.96      0.95      0.95       261\n",
      "weighted avg       0.96      0.96      0.96       261\n",
      "\n",
      "36\n",
      "Predicted values:\n",
      "[0 0 0 1 0 0 0 1 1 1 1 1 1 1 1 0 1 1 0 1 1 0 1 0 0 1 0 1 1 1 1 0 1 1 1 0 0\n",
      " 1 1 0 0 0 0 0 0 0 0 0 0 1 0 1 1 0 1 0 0 1 1 1 1 0 0 1 1 1 1 1 1 0 1 0 1 0\n",
      " 0 1 0 0 0 1 0 1 1 1 1 0 0 1 1 1 1 1 0 1 1 0 1 1 0 1 1 1 1 1 1 0 1 1 1 0 0\n",
      " 0 1 1 1 1 1 0 0 1 1 0 1 1 1 0 1 1 1 0 0 1 1 1 0 0 0 1 1 0 0 0 1 0 0 1 1 1\n",
      " 1 1 0 0 1 1 0 1 0 0 1 1 1 0 1 1 1 0 0 0 1 1 1 1 1 1 1 0 1 0 1 1 1 1 0 0 0\n",
      " 1 1 1 1 1 1 1 0 1 1 1 1 0 1 1 1 0 0 1 0 1 0 1 0 0 1 1 1 1 1 0 0 1 0 1 1 1\n",
      " 1 1 1 1 1 1 1 1 1 1 1 1 0 0 1 1 0 1 1 1 1 1 1 1 0 1 1 0 1 1 1 0 1 0 1 0 1\n",
      " 1 1]\n",
      "Accuracy :  93.48659003831418\n",
      "Report :                precision    recall  f1-score   support\n",
      "\n",
      "           0       0.95      0.88      0.91       102\n",
      "           1       0.93      0.97      0.95       159\n",
      "\n",
      "    accuracy                           0.93       261\n",
      "   macro avg       0.94      0.93      0.93       261\n",
      "weighted avg       0.94      0.93      0.93       261\n",
      "\n",
      "29\n",
      "Predicted values:\n",
      "[1 1 1 0 0 0 1 0 1 1 1 1 0 1 0 0 0 0 0 1 1 1 0 1 1 1 1 1 1 1 1 0 1 1 0 0 1\n",
      " 1 1 1 1 1 0 1 0 1 1 0 1 1 0 0 1 1 0 0 1 1 0 1 0 0 0 1 0 0 1 0 1 0 0 0 1 1\n",
      " 1 0 1 1 1 1 1 1 1 1 1 0 0 1 1 0 1 0 1 0 1 1 1 1 0 1 1 0 1 1 1 0 1 1 1 0 0\n",
      " 1 0 0 1 1 1 0 0 1 1 1 0 1 1 1 1 0 0 1 0 1 0 0 1 1 1 0 1 0 1 1 0 1 1 1 1 0\n",
      " 1 1 1 0 1 1 1 0 0 0 1 1 1 1 1 1 1 1 0 1 0 1 0 0 1 0 1 1 0 0 1 1 0 0 0 0 1\n",
      " 1 1 0 1 1 1 0 1 0 1 1 1 0 0 1 0 1 1 0 0 1 0 0 1 0 1 0 1 0 1 0 1 1 1 0 1 1\n",
      " 1 0 1 1 1 0 1 1 1 1 1 0 0 1 1 1 0 1 1 1 0 1 0 1 1 0 1 1 0 1 1 1 0 1 0 1 1\n",
      " 0 0]\n",
      "Accuracy :  96.93486590038314\n",
      "Report :                precision    recall  f1-score   support\n",
      "\n",
      "           0       0.98      0.94      0.96       103\n",
      "           1       0.96      0.99      0.97       158\n",
      "\n",
      "    accuracy                           0.97       261\n",
      "   macro avg       0.97      0.96      0.97       261\n",
      "weighted avg       0.97      0.97      0.97       261\n",
      "\n",
      "5\n",
      "Predicted values:\n",
      "[1 1 1 1 0 1 1 1 1 0 0 0 1 1 0 1 0 0 1 1 1 1 1 0 0 0 0 1 0 0 0 1 1 1 0 1 0\n",
      " 0 1 1 0 1 1 0 1 0 0 1 0 1 0 0 0 0 1 1 1 0 1 1 1 1 0 1 0 1 0 0 1 0 0 1 0 1\n",
      " 1 0 1 1 1 1 1 0 0 0 1 1 1 1 0 1 1 0 1 0 0 1 1 1 1 0 0 0 0 0 1 1 0 0 0 1 0\n",
      " 1 0 1 1 1 1 1 1 0 1 1 1 1 0 1 1 1 1 0 1 0 0 0 0 1 0 0 1 0 0 0 0 0 0 1 1 0\n",
      " 1 1 1 1 1 0 1 1 1 1 1 1 1 1 0 1 1 1 1 1 1 1 0 1 1 1 1 1 1 1 0 1 0 1 1 0 0\n",
      " 1 1 0 1 1 1 1 0 0 0 0 1 1 1 0 0 0 1 1 0 1 1 0 1 0 1 0 0 0 0 0 1 1 0 0 1 1\n",
      " 1 1 0 1 1 0 0 1 1 0 1 1 1 0 1 1 1 0 0 1 1 1 1 0 1 0 1 1 1 1 1 0 1 1 0 1 1\n",
      " 1 1]\n",
      "Accuracy :  95.40229885057471\n",
      "Report :                precision    recall  f1-score   support\n",
      "\n",
      "           0       0.92      0.96      0.94       100\n",
      "           1       0.97      0.95      0.96       161\n",
      "\n",
      "    accuracy                           0.95       261\n",
      "   macro avg       0.95      0.96      0.95       261\n",
      "weighted avg       0.95      0.95      0.95       261\n",
      "\n",
      "50\n",
      "Predicted values:\n",
      "[1 1 1 1 1 1 0 0 1 0 0 0 1 0 0 1 1 0 0 0 0 1 0 1 0 1 0 0 0 0 0 1 1 0 0 1 1\n",
      " 0 0 1 0 1 0 1 0 0 1 0 1 0 1 1 0 1 1 1 1 1 1 0 1 1 0 1 0 0 1 1 0 1 1 1 1 0\n",
      " 1 0 1 1 1 0 1 1 1 0 1 0 0 0 1 1 1 1 0 1 1 1 1 0 1 0 1 1 1 0 0 0 1 0 1 1 1\n",
      " 1 1 0 1 1 1 1 1 1 1 0 0 1 1 1 1 1 0 0 1 0 0 1 0 0 0 1 0 1 1 1 1 0 1 1 1 1\n",
      " 1 0 1 1 0 1 0 0 1 0 0 0 1 1 1 0 1 1 0 0 0 1 1 0 0 0 0 1 1 0 0 0 0 1 1 1 1\n",
      " 0 0 1 0 1 1 0 0 0 0 1 0 1 0 1 1 0 1 0 1 0 1 0 0 0 0 0 1 0 1 0 1 1 0 1 1 0\n",
      " 1 0 0 1 0 0 0 1 0 1 1 1 1 0 1 1 0 1 1 1 1 1 1 0 1 0 1 1 1 1 1 1 0 1 1 0 0\n",
      " 1 0]\n",
      "Accuracy :  92.33716475095785\n",
      "Report :                precision    recall  f1-score   support\n",
      "\n",
      "           0       0.82      1.00      0.90        94\n",
      "           1       1.00      0.88      0.94       167\n",
      "\n",
      "    accuracy                           0.92       261\n",
      "   macro avg       0.91      0.94      0.92       261\n",
      "weighted avg       0.94      0.92      0.92       261\n",
      "\n",
      "[95.78544061302682, 93.48659003831418, 96.93486590038314, 95.40229885057471, 92.33716475095785]\n",
      "MAX IS :  96.93486590038314\n",
      "MIN IS : 92.33716475095785\n",
      "MEAN IS: 94.78927203065135\n"
     ]
    }
   ],
   "source": [
    "clf_entropy40 = train_using_entropy(X_train40, X_test40, y_train40)\n",
    "y_pred_entropy40 = prediction(X_test40, clf_entropy40)\n",
    "print(cal_accuracy(y_test40, y_pred_entropy40))\n",
    "\n",
    "list2.append(cal_accuracy(y_test40, y_pred_entropy40))\n",
    "\n",
    "\n",
    "print(\"list2 is\",list2)\n",
    "\n",
    "score(x,y, 0.60)"
   ]
  },
  {
   "cell_type": "code",
   "execution_count": 54,
   "id": "5359e426",
   "metadata": {},
   "outputs": [],
   "source": [
    "#50%"
   ]
  },
  {
   "cell_type": "code",
   "execution_count": 55,
   "id": "ba56700b",
   "metadata": {},
   "outputs": [],
   "source": [
    "X_train50, X_test50, y_train50, y_test50 = train_test_split(x, y, test_size=0.50, random_state=100) # 50% training and 50% test"
   ]
  },
  {
   "cell_type": "code",
   "execution_count": 56,
   "id": "243b91d4",
   "metadata": {},
   "outputs": [
    {
     "name": "stdout",
     "output_type": "stream",
     "text": [
      "Predicted values:\n",
      "[0 0 1 1 0 1 0 1 1 0 0 0 0 1 1 0 0 0 0 0 1 0 1 0 0 0 0 1 1 0 0 1 0 1 0 0 1\n",
      " 0 0 1 0 1 1 1 1 1 1 0 1 0 0 0 0 1 1 0 0 0 1 1 1 1 0 1 1 1 1 1 1 1 1 0 1 1\n",
      " 1 1 1 0 1 1 1 1 1 0 0 1 1 1 0 1 0 0 1 1 1 1 0 0 1 1 1 1 1 1 0 1 0 1 1 1 1\n",
      " 0 0 1 0 0 1 0 1 0 1 1 1 1 0 1 1 0 1 0 1 1 0 1 1 1 0 1 1 0 0 1 1 1 0 1 0 1\n",
      " 1 1 1 1 1 0 1 1 1 0 0 1 0 0 0 1 1 1 0 0 0 1 1 0 1 1 1 1 1 1 1 1 1 1 1 1 1\n",
      " 0 0 1 1 1 1 0 1 1 1 0 1 1 0 0 1 1 0 1 0 1 1 0 0 1 0 1 0 0 1 1 1]\n",
      "Accuracy :  95.39170506912443\n",
      "Report :                precision    recall  f1-score   support\n",
      "\n",
      "           0       0.93      0.95      0.94        82\n",
      "           1       0.97      0.96      0.96       135\n",
      "\n",
      "    accuracy                           0.95       217\n",
      "   macro avg       0.95      0.95      0.95       217\n",
      "weighted avg       0.95      0.95      0.95       217\n",
      "\n",
      "95.39170506912443\n",
      "Accuracy :  95.39170506912443\n",
      "Report :                precision    recall  f1-score   support\n",
      "\n",
      "           0       0.93      0.95      0.94        82\n",
      "           1       0.97      0.96      0.96       135\n",
      "\n",
      "    accuracy                           0.95       217\n",
      "   macro avg       0.95      0.95      0.95       217\n",
      "weighted avg       0.95      0.95      0.95       217\n",
      "\n",
      "list2 is [95.39473684210526, 95.40229885057471, 95.39170506912443]\n",
      "69\n",
      "Predicted values:\n",
      "[1 0 1 0 0 0 1 1 1 1 1 0 0 0 0 1 1 1 0 1 1 1 0 0 0 1 0 1 1 0 0 1 1 1 0 1 1\n",
      " 0 1 0 1 1 0 1 1 1 1 1 1 0 1 1 1 1 0 1 1 1 1 1 0 1 1 1 1 1 1 0 1 1 1 1 0 1\n",
      " 1 1 1 0 0 1 0 1 1 0 0 0 1 0 1 1 1 0 0 0 1 1 0 1 1 0 1 1 1 1 1 1 0 1 1 1 1\n",
      " 1 0 0 1 0 1 0 1 0 0 1 1 1 1 0 1 1 1 1 1 1 1 1 1 0 0 0 1 0 0 1 0 0 1 0 0 1\n",
      " 1 1 1 0 1 1 1 1 1 1 1 1 1 1 0 1 1 0 0 0 1 0 1 0 1 1 1 1 1 0 0 0 1 0 0 0 1\n",
      " 0 0 0 1 1 1 1 1 1 1 1 1 0 0 0 0 0 1 0 0 0 1 1 0 1 1 1 1 1 1 1 1]\n",
      "Accuracy :  94.47004608294931\n",
      "Report :                precision    recall  f1-score   support\n",
      "\n",
      "           0       0.96      0.89      0.93        84\n",
      "           1       0.94      0.98      0.96       133\n",
      "\n",
      "    accuracy                           0.94       217\n",
      "   macro avg       0.95      0.94      0.94       217\n",
      "weighted avg       0.95      0.94      0.94       217\n",
      "\n",
      "8\n",
      "Predicted values:\n",
      "[1 1 0 0 1 0 1 1 0 0 0 0 1 0 1 1 1 1 1 0 1 0 0 0 0 0 1 0 1 1 0 0 1 1 1 1 0\n",
      " 1 1 1 0 1 1 0 1 0 0 1 1 0 0 1 1 0 1 1 1 1 0 1 1 1 1 1 1 1 1 0 0 1 0 1 1 1\n",
      " 1 1 0 1 0 1 1 1 1 1 1 0 1 1 1 1 1 1 1 0 1 1 1 1 1 1 1 1 1 1 0 1 0 1 1 1 0\n",
      " 1 1 0 0 0 1 1 0 0 1 0 1 1 0 1 1 0 1 1 1 1 1 0 0 1 1 1 0 0 1 1 0 1 0 0 0 0\n",
      " 0 1 1 1 1 0 1 1 1 1 1 0 0 1 0 1 1 1 1 1 0 1 1 1 1 0 0 1 1 0 1 0 1 0 0 1 1\n",
      " 1 1 1 1 0 1 0 1 0 0 0 1 0 1 0 0 0 1 1 1 1 1 0 0 1 1 1 0 0 1 0 1]\n",
      "Accuracy :  94.93087557603687\n",
      "Report :                precision    recall  f1-score   support\n",
      "\n",
      "           0       0.95      0.91      0.93        82\n",
      "           1       0.95      0.97      0.96       135\n",
      "\n",
      "    accuracy                           0.95       217\n",
      "   macro avg       0.95      0.94      0.95       217\n",
      "weighted avg       0.95      0.95      0.95       217\n",
      "\n",
      "14\n",
      "Predicted values:\n",
      "[1 1 1 1 1 0 1 1 0 1 1 1 1 0 0 0 1 1 1 0 1 0 0 0 1 0 1 1 1 0 1 1 1 1 0 0 1\n",
      " 0 1 1 1 0 0 0 1 0 1 1 0 1 1 0 0 0 0 0 0 0 0 0 0 1 0 1 0 1 1 1 1 1 1 0 0 1\n",
      " 1 0 1 1 1 0 1 1 1 1 0 0 1 1 0 1 0 0 1 1 0 0 1 1 1 0 0 0 0 0 0 1 0 1 1 1 1\n",
      " 0 0 0 1 1 1 1 1 1 0 0 1 1 1 1 0 0 1 1 0 0 0 0 0 1 1 1 0 1 1 1 1 1 1 0 1 1\n",
      " 0 1 1 1 1 1 1 1 1 0 1 0 1 0 1 1 1 1 0 0 0 1 0 1 1 1 1 0 1 1 0 0 0 0 1 0 1\n",
      " 0 0 1 1 1 0 1 0 1 0 1 1 0 0 1 1 1 1 0 1 1 1 0 0 1 1 0 1 1 0 1 0]\n",
      "Accuracy :  95.39170506912443\n",
      "Report :                precision    recall  f1-score   support\n",
      "\n",
      "           0       0.90      0.99      0.94        82\n",
      "           1       0.99      0.93      0.96       135\n",
      "\n",
      "    accuracy                           0.95       217\n",
      "   macro avg       0.95      0.96      0.95       217\n",
      "weighted avg       0.96      0.95      0.95       217\n",
      "\n",
      "11\n",
      "Predicted values:\n",
      "[0 1 1 1 0 1 1 1 1 0 1 1 0 0 0 0 1 1 0 1 1 1 0 0 1 1 1 0 1 0 0 1 1 0 0 1 1\n",
      " 1 1 0 1 0 1 0 0 0 1 1 0 1 0 0 0 0 0 1 0 1 0 1 0 0 1 1 1 0 1 1 0 0 0 0 1 0\n",
      " 1 1 0 1 1 1 0 1 0 1 1 1 0 0 0 0 0 1 1 1 0 1 0 1 1 1 0 0 0 1 0 0 0 0 1 1 1\n",
      " 1 1 0 1 1 1 1 1 1 1 1 1 1 1 1 0 1 1 1 0 1 1 1 0 1 0 1 0 0 0 0 0 1 0 0 0 1\n",
      " 0 0 1 0 1 1 1 1 1 1 1 1 1 1 1 1 0 1 0 0 0 1 1 0 1 1 1 1 1 1 0 1 1 1 1 1 1\n",
      " 1 0 0 1 0 1 1 0 0 0 0 0 1 1 1 0 1 1 0 1 1 1 1 1 0 1 1 0 1 0 0 1]\n",
      "Accuracy :  94.47004608294931\n",
      "Report :                precision    recall  f1-score   support\n",
      "\n",
      "           0       0.90      0.96      0.93        83\n",
      "           1       0.98      0.93      0.95       134\n",
      "\n",
      "    accuracy                           0.94       217\n",
      "   macro avg       0.94      0.95      0.94       217\n",
      "weighted avg       0.95      0.94      0.95       217\n",
      "\n",
      "44\n",
      "Predicted values:\n",
      "[0 1 1 1 1 1 1 0 1 0 1 0 1 1 1 1 1 1 1 0 1 0 1 0 0 1 0 0 0 0 0 0 1 1 1 1 1\n",
      " 1 0 1 0 0 1 0 1 0 1 0 1 0 1 1 1 0 1 0 0 0 1 0 0 0 0 1 1 0 1 0 0 0 0 0 0 1\n",
      " 1 1 0 0 0 1 0 1 1 1 1 1 0 0 1 0 1 0 1 0 1 0 0 1 1 1 0 0 1 1 1 1 0 1 1 0 0\n",
      " 1 1 0 1 1 1 0 1 0 1 1 1 1 1 1 0 1 1 1 1 1 0 1 1 0 1 1 1 0 0 1 1 1 0 1 0 1\n",
      " 0 0 0 1 0 0 1 1 1 1 1 1 1 1 1 1 0 1 0 1 1 1 1 1 1 1 0 1 1 1 0 0 0 1 1 1 0\n",
      " 1 1 1 1 1 1 1 1 1 1 0 1 0 0 1 0 1 1 0 1 0 1 0 1 1 1 1 0 1 1 1 1]\n",
      "Accuracy :  95.85253456221197\n",
      "Report :                precision    recall  f1-score   support\n",
      "\n",
      "           0       0.99      0.91      0.95        89\n",
      "           1       0.94      0.99      0.97       128\n",
      "\n",
      "    accuracy                           0.96       217\n",
      "   macro avg       0.96      0.95      0.96       217\n",
      "weighted avg       0.96      0.96      0.96       217\n",
      "\n",
      "[94.47004608294931, 94.93087557603687, 95.39170506912443, 94.47004608294931, 95.85253456221197]\n",
      "MAX IS :  95.85253456221197\n",
      "MIN IS : 94.47004608294931\n",
      "MEAN IS: 95.02304147465438\n"
     ]
    }
   ],
   "source": [
    "clf_entropy50 = train_using_entropy(X_train50, X_test50, y_train50)\n",
    "y_pred_entropy50 = prediction(X_test50, clf_entropy50)\n",
    "print(cal_accuracy(y_test50, y_pred_entropy50))\n",
    "\n",
    "list2.append(cal_accuracy(y_test50, y_pred_entropy50))\n",
    "\n",
    "print(\"list2 is\",list2)\n",
    "\n",
    "score(x,y, 0.50)"
   ]
  },
  {
   "cell_type": "code",
   "execution_count": 57,
   "id": "6b95f69c",
   "metadata": {},
   "outputs": [],
   "source": [
    "#60%"
   ]
  },
  {
   "cell_type": "code",
   "execution_count": 58,
   "id": "369244c6",
   "metadata": {},
   "outputs": [],
   "source": [
    "X_train60, X_test60, y_train60, y_test60 = train_test_split(x, y, test_size=0.40, random_state=100) # 60% training and 40% test"
   ]
  },
  {
   "cell_type": "code",
   "execution_count": 59,
   "id": "1f9d672c",
   "metadata": {},
   "outputs": [
    {
     "name": "stdout",
     "output_type": "stream",
     "text": [
      "Predicted values:\n",
      "[0 0 1 1 0 1 0 1 1 0 0 0 0 1 1 0 0 0 0 0 1 0 1 0 0 0 1 1 1 0 0 1 0 1 0 0 1\n",
      " 0 0 1 0 1 1 1 1 1 1 0 1 0 0 0 0 1 1 0 0 0 1 1 1 1 0 1 1 1 1 1 1 1 1 0 1 1\n",
      " 1 1 1 0 1 1 1 1 1 0 0 1 1 1 0 1 0 0 1 0 1 1 0 0 1 0 1 1 1 1 0 1 0 1 1 1 1\n",
      " 0 0 1 0 0 1 0 1 0 1 1 1 1 0 1 1 0 1 0 1 1 0 1 1 1 0 1 1 0 0 1 1 1 0 1 0 1\n",
      " 1 1 1 1 1 0 1 1 1 0 0 1 0 0 0 1 1 1 0 0 0 1 1 0 1 1]\n",
      "Accuracy :  95.40229885057471\n",
      "Report :                precision    recall  f1-score   support\n",
      "\n",
      "           0       0.93      0.96      0.94        70\n",
      "           1       0.97      0.95      0.96       104\n",
      "\n",
      "    accuracy                           0.95       174\n",
      "   macro avg       0.95      0.95      0.95       174\n",
      "weighted avg       0.95      0.95      0.95       174\n",
      "\n",
      "95.40229885057471\n",
      "Accuracy :  95.40229885057471\n",
      "Report :                precision    recall  f1-score   support\n",
      "\n",
      "           0       0.93      0.96      0.94        70\n",
      "           1       0.97      0.95      0.96       104\n",
      "\n",
      "    accuracy                           0.95       174\n",
      "   macro avg       0.95      0.95      0.95       174\n",
      "weighted avg       0.95      0.95      0.95       174\n",
      "\n",
      "list2 is [95.39473684210526, 95.40229885057471, 95.39170506912443, 95.40229885057471]\n",
      "15\n",
      "Predicted values:\n",
      "[1 1 1 1 0 1 0 1 1 0 0 1 1 0 1 0 1 1 1 1 1 0 1 0 0 0 1 1 0 1 0 0 0 1 1 1 1\n",
      " 0 0 1 1 1 0 0 1 1 1 1 1 0 1 1 0 0 0 0 0 1 0 1 1 0 1 0 1 1 1 1 0 1 1 0 1 1\n",
      " 0 1 0 0 1 0 0 0 1 1 0 0 0 1 1 0 0 1 1 0 1 0 0 0 1 1 1 0 0 0 1 1 0 0 0 0 1\n",
      " 0 1 1 0 1 1 1 0 0 1 0 1 1 1 1 1 1 1 1 1 0 0 0 1 0 1 1 1 1 1 0 0 1 1 0 0 1\n",
      " 1 1 1 0 1 0 0 1 0 1 1 1 0 0 1 1 0 0 0 1 1 0 1 1 0 0]\n",
      "Accuracy :  94.25287356321839\n",
      "Report :                precision    recall  f1-score   support\n",
      "\n",
      "           0       0.91      0.96      0.93        72\n",
      "           1       0.97      0.93      0.95       102\n",
      "\n",
      "    accuracy                           0.94       174\n",
      "   macro avg       0.94      0.94      0.94       174\n",
      "weighted avg       0.94      0.94      0.94       174\n",
      "\n",
      "15\n",
      "Predicted values:\n",
      "[1 1 1 1 0 1 0 1 1 0 0 1 1 0 1 0 1 1 1 1 1 0 1 0 0 0 1 1 0 1 0 0 0 1 1 1 1\n",
      " 0 0 1 1 1 0 0 1 1 1 1 1 0 1 1 0 0 0 0 0 1 0 1 1 0 1 0 1 1 1 1 0 1 1 0 1 1\n",
      " 0 1 0 0 1 0 0 0 1 1 0 0 0 1 1 0 0 1 1 0 1 0 0 0 1 1 1 0 0 0 1 1 0 0 0 0 1\n",
      " 0 1 1 0 1 1 1 0 0 1 0 1 1 1 1 1 1 1 1 1 0 0 0 1 0 1 1 1 1 1 0 0 1 1 0 0 1\n",
      " 1 1 1 0 1 0 0 1 0 1 1 1 0 0 1 1 0 0 0 1 1 0 1 1 0 0]\n",
      "Accuracy :  94.25287356321839\n",
      "Report :                precision    recall  f1-score   support\n",
      "\n",
      "           0       0.91      0.96      0.93        72\n",
      "           1       0.97      0.93      0.95       102\n",
      "\n",
      "    accuracy                           0.94       174\n",
      "   macro avg       0.94      0.94      0.94       174\n",
      "weighted avg       0.94      0.94      0.94       174\n",
      "\n",
      "36\n",
      "Predicted values:\n",
      "[0 0 0 1 0 0 0 1 1 1 1 1 1 1 1 0 1 1 0 1 1 0 1 0 0 1 0 1 1 1 1 0 1 1 1 0 0\n",
      " 1 1 0 0 0 0 0 0 0 0 0 0 1 0 1 1 0 1 0 0 1 1 1 1 0 0 1 1 1 1 1 1 0 1 0 1 0\n",
      " 0 1 0 0 0 1 0 1 1 1 1 0 0 1 1 1 1 1 0 1 1 0 1 1 0 1 1 1 1 1 1 0 1 1 1 0 0\n",
      " 0 1 1 1 1 1 0 0 1 1 0 1 1 1 0 1 1 1 0 0 1 1 1 0 0 0 1 1 0 0 0 1 0 0 1 1 1\n",
      " 1 1 0 0 1 1 0 1 0 0 1 1 1 0 1 1 1 0 0 0 1 1 1 1 1 1]\n",
      "Accuracy :  91.95402298850574\n",
      "Report :                precision    recall  f1-score   support\n",
      "\n",
      "           0       0.94      0.87      0.91        77\n",
      "           1       0.90      0.96      0.93        97\n",
      "\n",
      "    accuracy                           0.92       174\n",
      "   macro avg       0.92      0.91      0.92       174\n",
      "weighted avg       0.92      0.92      0.92       174\n",
      "\n",
      "87\n",
      "Predicted values:\n",
      "[1 1 1 0 1 1 0 1 1 1 0 1 0 1 1 0 1 1 1 1 0 0 1 1 1 0 1 1 1 1 0 1 1 0 1 0 1\n",
      " 1 0 1 1 0 0 1 1 1 0 0 1 0 0 1 1 0 1 0 0 1 1 1 1 1 1 1 1 0 0 1 1 1 1 0 1 1\n",
      " 1 1 1 1 0 0 1 0 1 1 0 0 0 1 1 0 0 0 0 1 1 0 1 1 1 1 1 1 1 0 1 1 1 1 0 0 0\n",
      " 1 1 1 0 0 0 0 1 0 1 1 1 1 0 1 0 1 1 1 0 0 1 0 1 0 0 1 1 0 1 0 0 1 1 1 1 1\n",
      " 0 1 1 1 0 0 0 1 0 0 1 1 0 1 1 1 0 0 1 1 0 0 1 1 0 1]\n",
      "Accuracy :  95.40229885057471\n",
      "Report :                precision    recall  f1-score   support\n",
      "\n",
      "           0       0.91      0.97      0.94        62\n",
      "           1       0.98      0.95      0.96       112\n",
      "\n",
      "    accuracy                           0.95       174\n",
      "   macro avg       0.95      0.96      0.95       174\n",
      "weighted avg       0.96      0.95      0.95       174\n",
      "\n",
      "60\n",
      "Predicted values:\n",
      "[1 1 1 0 1 1 1 1 0 1 1 1 1 1 1 1 1 1 1 0 1 1 1 1 1 1 1 1 1 0 0 1 0 0 1 1 1\n",
      " 0 1 1 0 1 0 1 0 0 0 1 1 1 0 1 0 1 0 0 0 1 0 0 0 0 1 0 0 1 1 1 1 0 1 0 1 1\n",
      " 1 1 1 0 0 1 1 0 1 1 0 1 1 1 0 1 1 1 1 1 1 0 1 1 1 1 0 1 1 0 1 0 0 1 1 1 1\n",
      " 1 0 1 1 0 1 1 1 1 1 1 1 1 1 1 1 0 1 1 1 1 0 1 0 1 1 1 1 0 1 1 0 1 1 0 0 1\n",
      " 0 0 0 1 1 1 1 0 1 1 0 0 1 1 0 0 1 1 0 0 1 0 0 1 1 0]\n",
      "Accuracy :  94.25287356321839\n",
      "Report :                precision    recall  f1-score   support\n",
      "\n",
      "           0       0.95      0.89      0.92        62\n",
      "           1       0.94      0.97      0.96       112\n",
      "\n",
      "    accuracy                           0.94       174\n",
      "   macro avg       0.94      0.93      0.94       174\n",
      "weighted avg       0.94      0.94      0.94       174\n",
      "\n",
      "[94.25287356321839, 94.25287356321839, 91.95402298850574, 95.40229885057471, 94.25287356321839]\n",
      "MAX IS :  95.40229885057471\n",
      "MIN IS : 91.95402298850574\n",
      "MEAN IS: 94.02298850574712\n"
     ]
    }
   ],
   "source": [
    "clf_entropy60 = train_using_entropy(X_train60, X_test60, y_train60)\n",
    "y_pred_entropy60 = prediction(X_test60, clf_entropy60)\n",
    "print(cal_accuracy(y_test60, y_pred_entropy60))\n",
    "\n",
    "list2.append(cal_accuracy(y_test60, y_pred_entropy60))\n",
    "\n",
    "print(\"list2 is\",list2)\n",
    "\n",
    "score(x,y, 0.40)"
   ]
  },
  {
   "cell_type": "code",
   "execution_count": 60,
   "id": "4ee1897b",
   "metadata": {},
   "outputs": [],
   "source": [
    "#70%"
   ]
  },
  {
   "cell_type": "code",
   "execution_count": 61,
   "id": "b79e4fb1",
   "metadata": {},
   "outputs": [],
   "source": [
    "X_train70, X_test70, y_train70, y_test70 = train_test_split(x, y, test_size=0.30, random_state=100) # 70% training and 30% test"
   ]
  },
  {
   "cell_type": "code",
   "execution_count": 62,
   "id": "740a18f8",
   "metadata": {},
   "outputs": [
    {
     "name": "stdout",
     "output_type": "stream",
     "text": [
      "Predicted values:\n",
      "[0 0 1 1 0 1 0 1 1 0 0 0 0 1 1 0 0 0 0 0 1 0 1 0 0 0 1 1 1 0 0 1 0 1 0 0 1\n",
      " 0 0 1 0 1 1 1 1 1 1 0 1 0 0 0 0 1 1 0 0 0 1 1 1 1 0 1 1 1 1 1 1 1 1 0 1 1\n",
      " 1 1 1 0 1 1 1 1 1 0 0 1 1 1 0 1 0 0 1 1 1 1 0 0 1 0 1 1 1 1 0 1 0 1 1 1 1\n",
      " 0 0 1 0 0 1 0 1 0 1 1 1 1 0 1 1 0 1 0 1]\n",
      "Accuracy :  95.41984732824427\n",
      "Report :                precision    recall  f1-score   support\n",
      "\n",
      "           0       0.93      0.96      0.94        53\n",
      "           1       0.97      0.95      0.96        78\n",
      "\n",
      "    accuracy                           0.95       131\n",
      "   macro avg       0.95      0.96      0.95       131\n",
      "weighted avg       0.95      0.95      0.95       131\n",
      "\n",
      "95.41984732824427\n",
      "Accuracy :  95.41984732824427\n",
      "Report :                precision    recall  f1-score   support\n",
      "\n",
      "           0       0.93      0.96      0.94        53\n",
      "           1       0.97      0.95      0.96        78\n",
      "\n",
      "    accuracy                           0.95       131\n",
      "   macro avg       0.95      0.96      0.95       131\n",
      "weighted avg       0.95      0.95      0.95       131\n",
      "\n",
      "list2 is [95.39473684210526, 95.40229885057471, 95.39170506912443, 95.40229885057471, 95.41984732824427]\n",
      "45\n",
      "Predicted values:\n",
      "[0 1 1 0 1 0 1 0 1 0 1 1 1 1 0 1 1 1 1 1 1 1 1 1 0 1 1 1 1 1 1 0 1 0 0 1 1\n",
      " 0 1 1 1 1 1 0 0 0 1 1 1 0 1 1 1 1 1 0 1 0 0 1 1 1 0 1 1 1 0 1 0 1 0 1 0 1\n",
      " 1 1 1 1 1 1 1 1 1 0 1 0 1 0 0 0 0 0 1 1 0 0 1 0 0 1 0 1 0 1 0 1 0 1 1 1 1\n",
      " 0 1 1 0 1 0 0 1 1 1 1 1 0 1 1 0 1 1 1 1]\n",
      "Accuracy :  93.89312977099237\n",
      "Report :                precision    recall  f1-score   support\n",
      "\n",
      "           0       0.86      0.95      0.90        40\n",
      "           1       0.98      0.93      0.96        91\n",
      "\n",
      "    accuracy                           0.94       131\n",
      "   macro avg       0.92      0.94      0.93       131\n",
      "weighted avg       0.94      0.94      0.94       131\n",
      "\n",
      "39\n",
      "Predicted values:\n",
      "[1 1 0 1 0 0 1 1 0 1 0 1 0 0 1 0 0 0 1 1 1 1 0 1 0 1 1 1 1 0 1 1 0 1 1 0 1\n",
      " 1 0 1 0 0 0 1 1 1 1 1 1 0 1 1 0 0 1 1 0 0 1 0 1 0 1 1 1 1 1 1 1 1 0 1 0 0\n",
      " 0 0 0 0 1 1 1 0 0 0 1 0 1 1 1 1 1 1 1 1 1 1 0 1 1 1 0 1 1 1 1 1 0 0 1 0 1\n",
      " 1 0 1 1 0 0 1 0 0 1 1 0 0 0 1 1 1 1 1 1]\n",
      "Accuracy :  93.12977099236642\n",
      "Report :                precision    recall  f1-score   support\n",
      "\n",
      "           0       0.92      0.90      0.91        51\n",
      "           1       0.94      0.95      0.94        80\n",
      "\n",
      "    accuracy                           0.93       131\n",
      "   macro avg       0.93      0.93      0.93       131\n",
      "weighted avg       0.93      0.93      0.93       131\n",
      "\n",
      "60\n",
      "Predicted values:\n",
      "[1 1 1 0 1 1 1 1 0 1 1 1 1 1 1 1 1 1 1 0 1 1 1 1 1 1 1 1 1 0 0 1 0 0 1 1 1\n",
      " 0 1 1 0 1 0 1 0 0 0 1 1 1 0 1 0 1 0 0 0 1 0 0 0 0 1 0 0 1 1 1 1 0 1 0 1 1\n",
      " 1 1 1 0 0 1 1 0 1 1 0 1 1 1 0 1 1 1 1 1 1 0 1 1 1 1 0 1 1 0 1 0 0 1 1 1 1\n",
      " 1 0 1 1 0 1 1 1 1 1 1 1 1 1 1 1 0 1 1 1]\n",
      "Accuracy :  93.89312977099237\n",
      "Report :                precision    recall  f1-score   support\n",
      "\n",
      "           0       0.97      0.84      0.90        45\n",
      "           1       0.92      0.99      0.96        86\n",
      "\n",
      "    accuracy                           0.94       131\n",
      "   macro avg       0.95      0.92      0.93       131\n",
      "weighted avg       0.94      0.94      0.94       131\n",
      "\n",
      "67\n",
      "Predicted values:\n",
      "[0 1 1 1 1 0 0 0 1 1 1 1 1 0 1 0 1 1 1 1 0 1 1 1 0 1 1 1 0 1 1 1 1 0 0 0 1\n",
      " 0 0 0 0 1 1 1 1 0 0 1 0 0 0 1 1 1 1 1 1 1 1 0 1 1 0 0 1 0 1 0 1 1 0 1 1 1\n",
      " 0 1 0 1 1 1 1 1 1 1 0 1 1 1 1 0 1 1 0 0 0 1 1 0 1 0 1 0 1 1 0 1 0 1 1 0 1\n",
      " 1 1 1 1 0 1 0 0 0 1 1 1 1 1 0 0 0 0 1 1]\n",
      "Accuracy :  92.36641221374046\n",
      "Report :                precision    recall  f1-score   support\n",
      "\n",
      "           0       0.94      0.87      0.90        52\n",
      "           1       0.92      0.96      0.94        79\n",
      "\n",
      "    accuracy                           0.92       131\n",
      "   macro avg       0.93      0.91      0.92       131\n",
      "weighted avg       0.92      0.92      0.92       131\n",
      "\n",
      "48\n",
      "Predicted values:\n",
      "[0 0 0 0 1 1 1 1 0 1 1 1 1 1 0 0 1 0 0 1 1 0 1 0 1 1 1 1 1 1 0 1 1 1 1 1 1\n",
      " 0 0 1 0 1 0 0 1 1 1 0 1 1 1 0 0 1 1 0 1 0 0 0 1 0 0 0 1 1 1 1 1 1 0 0 1 0\n",
      " 0 0 0 1 1 0 1 0 0 0 1 1 1 1 0 1 0 1 1 0 0 0 0 0 1 0 1 1 1 0 0 1 0 0 1 1 1\n",
      " 0 1 1 1 1 1 1 0 1 0 1 1 1 1 0 1 1 1 0 1]\n",
      "Accuracy :  94.65648854961832\n",
      "Report :                precision    recall  f1-score   support\n",
      "\n",
      "           0       0.93      0.94      0.93        53\n",
      "           1       0.96      0.95      0.95        78\n",
      "\n",
      "    accuracy                           0.95       131\n",
      "   macro avg       0.94      0.95      0.94       131\n",
      "weighted avg       0.95      0.95      0.95       131\n",
      "\n",
      "[93.89312977099237, 93.12977099236642, 93.89312977099237, 92.36641221374046, 94.65648854961832]\n",
      "MAX IS :  94.65648854961832\n",
      "MIN IS : 92.36641221374046\n",
      "MEAN IS: 93.58778625954199\n"
     ]
    }
   ],
   "source": [
    "clf_entropy70 = train_using_entropy(X_train70, X_test70, y_train70)\n",
    "y_pred_entropy70 = prediction(X_test70, clf_entropy70)\n",
    "print(cal_accuracy(y_test70, y_pred_entropy70))\n",
    "\n",
    "list2.append(cal_accuracy(y_test70, y_pred_entropy70))\n",
    "print(\"list2 is\",list2)\n",
    "\n",
    "\n",
    "score(x,y, 0.30)"
   ]
  },
  {
   "cell_type": "code",
   "execution_count": 63,
   "id": "0e90eba9",
   "metadata": {},
   "outputs": [
    {
     "name": "stdout",
     "output_type": "stream",
     "text": [
      "Requirement already satisfied: matplotlib in c:\\users\\basant\\anaconda3\\lib\\site-packages (3.3.4)\n",
      "Requirement already satisfied: pyparsing!=2.0.4,!=2.1.2,!=2.1.6,>=2.0.3 in c:\\users\\basant\\anaconda3\\lib\\site-packages (from matplotlib) (2.4.7)\n",
      "Requirement already satisfied: kiwisolver>=1.0.1 in c:\\users\\basant\\anaconda3\\lib\\site-packages (from matplotlib) (1.3.1)\n",
      "Requirement already satisfied: pillow>=6.2.0 in c:\\users\\basant\\anaconda3\\lib\\site-packages (from matplotlib) (8.2.0)\n",
      "Requirement already satisfied: cycler>=0.10 in c:\\users\\basant\\anaconda3\\lib\\site-packages (from matplotlib) (0.10.0)\n",
      "Requirement already satisfied: numpy>=1.15 in c:\\users\\basant\\anaconda3\\lib\\site-packages (from matplotlib) (1.20.1)\n",
      "Requirement already satisfied: python-dateutil>=2.1 in c:\\users\\basant\\anaconda3\\lib\\site-packages (from matplotlib) (2.8.1)\n",
      "Requirement already satisfied: six in c:\\users\\basant\\anaconda3\\lib\\site-packages (from cycler>=0.10->matplotlib) (1.15.0)\n",
      "Note: you may need to restart the kernel to use updated packages.\n"
     ]
    }
   ],
   "source": [
    "pip install matplotlib"
   ]
  },
  {
   "cell_type": "code",
   "execution_count": 64,
   "id": "e939a021",
   "metadata": {},
   "outputs": [],
   "source": [
    "import matplotlib.pyplot as plt\n"
   ]
  },
  {
   "cell_type": "code",
   "execution_count": 42,
   "id": "48668549",
   "metadata": {},
   "outputs": [
    {
     "name": "stdout",
     "output_type": "stream",
     "text": [
      "[95.39473684210526, 95.40229885057471, 95.39170506912443, 95.40229885057471, 95.41984732824427]\n"
     ]
    },
    {
     "data": {
      "text/plain": [
       "[<matplotlib.lines.Line2D at 0x1b92f85a640>]"
      ]
     },
     "execution_count": 42,
     "metadata": {},
     "output_type": "execute_result"
    },
    {
     "data": {
      "image/png": "[encoded data removed]",
      "text/plain": [
       "<Figure size 432x288 with 1 Axes>"
      ]
     },
     "metadata": {
      "needs_background": "light"
     },
     "output_type": "display_data"
    }
   ],
   "source": [
    "list1=[30,40,50,60,70]\n",
    "print(list2)\n",
    "plt.plot(list1,list2)"
   ]
  },
  {
   "cell_type": "markdown",
   "id": "7022b65b",
   "metadata": {},
   "source": [
    "### Also measure the mean, max and min tree size. ● Start with training data size 40% , 50% .... Until you reach 80%.● Turn in two plots showing how accuracy varies with training set size and how the number of nodes in the final tree varies with training set size"
   ]
  },
  {
   "cell_type": "code",
   "execution_count": 166,
   "id": "a31957e6",
   "metadata": {},
   "outputs": [],
   "source": [
    "import sklearn\n",
    "\n",
    "\n",
    "import itertools\n",
    "    \n",
    "import statistics    \n",
    "\n"
   ]
  },
  {
   "cell_type": "code",
   "execution_count": 167,
   "id": "3ab845d2",
   "metadata": {},
   "outputs": [
    {
     "name": "stdout",
     "output_type": "stream",
     "text": [
      "when data size is 40% max 3\n",
      "when data size is 40% min 2\n",
      "when data size is 50% max 3\n",
      "when data size is 50% min 2\n",
      "when data size is 60% max 3\n",
      "when data size is 60% min 2\n",
      "when data size is 70% max 3\n",
      "when data size is 70% min 2\n",
      "Predicted values:\n",
      "[0 0 1 1 0 1 0 1 1 0 0 0 0 1 1 0 0 0 0 0 1 0 1 0 0 0 1 1 1 0 0 1 0 1 0 0 1\n",
      " 0 0 1 0 1 1 1 1 1 1 0 1 0 0 0 0 1 1 0 0 0 1 1 1 1 0 1 1 1 1 1 1 1 1 0 1 1\n",
      " 1 1 1 0 1 1 1 1 1 0 0 1 1]\n",
      "when data size is 80% max 3\n",
      "when data size is 80% min 2\n"
     ]
    }
   ],
   "source": [
    "#clf_entropy60.tree_.max_depth\n",
    "#cost_complexity_pruning_path(x, y,None)\n",
    "#clf_entropy60.min_samples_split\n",
    "\n",
    "\n",
    "#print(itertools.islice(clf_entropy40))\n",
    "\n",
    "print (\"when data size is 40% max\", clf_entropy40.tree_.max_depth)\n",
    "print (\"when data size is 40% min\", clf_entropy40.min_samples_split)\n",
    "\n",
    "#min_samples_leaf\n",
    "\n",
    "print (\"when data size is 50% max\", clf_entropy50.tree_.max_depth)\n",
    "print (\"when data size is 50% min\", clf_entropy50.min_samples_split)\n",
    "\n",
    "\n",
    "print (\"when data size is 60% max\", clf_entropy60.tree_.max_depth)\n",
    "print (\"when data size is 60% min\", clf_entropy60.min_samples_split)\n",
    "\n",
    "\n",
    "print (\"when data size is 70% max\", clf_entropy70.tree_.max_depth)\n",
    "print (\"when data size is 70% min\", clf_entropy70.min_samples_split)\n",
    "\n",
    "\n",
    "\n",
    "X_train80, X_test80, y_train80, y_test80 = train_test_split(x, y, test_size=0.20, random_state=100) # 80% training and 20% test\n",
    "clf_entropy80 = train_using_entropy(X_train80, X_test80, y_train80)\n",
    "\n",
    "y_pred_entropy80 = prediction(X_test80, clf_entropy80)\n",
    "\n",
    "print (\"when data size is 80% max\", clf_entropy80.tree_.max_depth)\n",
    "print (\"when data size is 80% min\", clf_entropy80.min_samples_split)\n",
    "\n",
    "#print (\"when data size is 50%\", score(x,y, 0.50))\n",
    "#print (\"when data size is 60%\", score(x,y, 0.60))\n",
    "#print (\"when data size is 70%\", score(x,y, 0.70))\n",
    "#print (\"when data size is 80%\", score(x,y, 0.80))\n",
    "#max_leaf_node"
   ]
  },
  {
   "cell_type": "code",
   "execution_count": 191,
   "id": "68b887c6",
   "metadata": {},
   "outputs": [
    {
     "name": "stdout",
     "output_type": "stream",
     "text": [
      "list_trees is [9, 11, 13, 13, 13]\n",
      "max is 13\n",
      "min is 9\n",
      "mean is 11.8\n"
     ]
    }
   ],
   "source": [
    "\n",
    "list_trees=[]\n",
    "#clf_entropy40.get_depth()\n",
    "\n",
    "list_trees.append(clf_entropy40.tree_.node_count)\n",
    "list_trees.append(clf_entropy50.tree_.node_count)\n",
    "list_trees.append(clf_entropy60.tree_.node_count)\n",
    "list_trees.append(clf_entropy70.tree_.node_count)\n",
    "list_trees.append(clf_entropy80.tree_.node_count)\n",
    "\n",
    "print(\"list_trees is\",list_trees)\n",
    "print(\"max is\",max(list_trees))\n",
    "print(\"min is\",min(list_trees))\n",
    "print(\"mean is\",statistics.mean(list_trees))"
   ]
  },
  {
   "cell_type": "code",
   "execution_count": 158,
   "id": "138da4b2",
   "metadata": {},
   "outputs": [
    {
     "data": {
      "text/plain": [
       "[9, 11, 13, 13, 13]"
      ]
     },
     "execution_count": 158,
     "metadata": {},
     "output_type": "execute_result"
    }
   ],
   "source": [
    "listNodes=[]\n",
    "listACC=[]\n",
    "a=clf_entropy40.tree_.node_count\n",
    "listNodes.append(a)\n",
    "\n",
    "b=clf_entropy50.tree_.node_count\n",
    "listNodes.append(b)\n",
    "\n",
    "\n",
    "c=clf_entropy60.tree_.node_count\n",
    "listNodes.append(c)\n",
    "\n",
    "d=clf_entropy70.tree_.node_count\n",
    "listNodes.append(d)\n",
    "\n",
    "e=clf_entropy80.tree_.node_count\n",
    "listNodes.append(e)\n",
    "\n",
    "listNodes\n"
   ]
  },
  {
   "cell_type": "code",
   "execution_count": 159,
   "id": "4be3a139",
   "metadata": {},
   "outputs": [],
   "source": [
    "from sklearn.metrics import accuracy_score"
   ]
  },
  {
   "cell_type": "code",
   "execution_count": 160,
   "id": "42094d43",
   "metadata": {},
   "outputs": [
    {
     "data": {
      "text/plain": [
       "[0.9540229885057471,\n",
       " 0.9539170506912442,\n",
       " 0.9540229885057471,\n",
       " 0.9541984732824428,\n",
       " 0.9540229885057471]"
      ]
     },
     "execution_count": 160,
     "metadata": {},
     "output_type": "execute_result"
    }
   ],
   "source": [
    "s1 = accuracy_score(y_test40,y_pred_entropy40)\n",
    "listACC.append(s1)\n",
    "s2 = accuracy_score(y_test50,y_pred_entropy50)\n",
    "listACC.append(s2)\n",
    "s3 = accuracy_score(y_test60,y_pred_entropy60)\n",
    "listACC.append(s3)\n",
    "s4 = accuracy_score(y_test70,y_pred_entropy70)\n",
    "listACC.append(s4)\n",
    "s5 = accuracy_score(y_test80,y_pred_entropy80)\n",
    "listACC.append(s5)\n",
    "\n",
    "listACC"
   ]
  },
  {
   "cell_type": "code",
   "execution_count": 161,
   "id": "16b2d7a7",
   "metadata": {},
   "outputs": [
    {
     "data": {
      "text/plain": [
       "[<matplotlib.lines.Line2D at 0x1b92fe6d370>]"
      ]
     },
     "execution_count": 161,
     "metadata": {},
     "output_type": "execute_result"
    },
    {
     "data": {
      "image/png": "[encoded data removed]",
      "text/plain": [
       "<Figure size 432x288 with 1 Axes>"
      ]
     },
     "metadata": {
      "needs_background": "light"
     },
     "output_type": "display_data"
    }
   ],
   "source": [
    "plt.plot(listACC,listLeaves)"
   ]
  },
  {
   "cell_type": "markdown",
   "id": "498bb55d",
   "metadata": {},
   "source": [
    "###  Missing values and replace it by  ' _'\n"
   ]
  },
  {
   "cell_type": "code",
   "execution_count": 218,
   "id": "e9932c04",
   "metadata": {},
   "outputs": [
    {
     "data": {
      "text/html": [
       "<div>\n",
       "<style scoped>\n",
       "    .dataframe tbody tr th:only-of-type {\n",
       "        vertical-align: middle;\n",
       "    }\n",
       "\n",
       "    .dataframe tbody tr th {\n",
       "        vertical-align: top;\n",
       "    }\n",
       "\n",
       "    .dataframe thead th {\n",
       "        text-align: right;\n",
       "    }\n",
       "</style>\n",
       "<table border=\"1\" class=\"dataframe\">\n",
       "  <thead>\n",
       "    <tr style=\"text-align: right;\">\n",
       "      <th></th>\n",
       "      <th>republican</th>\n",
       "      <th>n</th>\n",
       "      <th>y</th>\n",
       "      <th>n.1</th>\n",
       "      <th>y.1</th>\n",
       "      <th>y.2</th>\n",
       "      <th>y.3</th>\n",
       "      <th>n.2</th>\n",
       "      <th>n.3</th>\n",
       "      <th>n.4</th>\n",
       "      <th>y.4</th>\n",
       "      <th>?</th>\n",
       "      <th>y.5</th>\n",
       "      <th>y.6</th>\n",
       "      <th>y.7</th>\n",
       "      <th>n.5</th>\n",
       "      <th>y.8</th>\n",
       "    </tr>\n",
       "  </thead>\n",
       "  <tbody>\n",
       "  </tbody>\n",
       "</table>\n",
       "</div>"
      ],
      "text/plain": [
       "Empty DataFrame\n",
       "Columns: [republican, n, y, n.1, y.1, y.2, y.3, n.2, n.3, n.4, y.4, ?, y.5, y.6, y.7, n.5, y.8]\n",
       "Index: []"
      ]
     },
     "execution_count": 218,
     "metadata": {},
     "output_type": "execute_result"
    }
   ],
   "source": [
    "obj_df[obj_df.isnull().any(axis=1)]\n"
   ]
  },
  {
   "cell_type": "code",
   "execution_count": 219,
   "id": "77372e29",
   "metadata": {},
   "outputs": [
    {
     "name": "stdout",
     "output_type": "stream",
     "text": [
      "    republican   n   y n.1 y.1 y.2 y.3 n.2 n.3 n.4 y.4  ? y.5 y.6 y.7 n.5 y.8\n",
      "0            0   0   1   0   1   1   1   0   0   0   0  0   1   1   1   0  __\n",
      "1            1  __   1   1  __   1   1   0   0   0   0  1   0   1   1   0   0\n",
      "2            1   0   1   1   0  __   1   0   0   0   0  1   0   1   0   0   1\n",
      "3            1   1   1   1   0   1   1   0   0   0   0  1  __   1   1   1   1\n",
      "4            1   0   1   1   0   1   1   0   0   0   0  0   0   1   1   1   1\n",
      "..         ...  ..  ..  ..  ..  ..  ..  ..  ..  ..  .. ..  ..  ..  ..  ..  ..\n",
      "429          0   0   0   1   1   1   1   0   0   1   1  0   1   1   1   0   1\n",
      "430          1   0   0   1   0   0   0   1   1   1   1  0   0   0   0   0   1\n",
      "431          0   0  __   0   1   1   1   0   0   0   0  1   1   1   1   0   1\n",
      "432          0   0   0   0   1   1   1  __  __  __  __  0   1   1   1   0   1\n",
      "433          0   0   1   0   1   1   1   0   0   0   1  0   1   1   1  __   0\n",
      "\n",
      "[434 rows x 17 columns]\n"
     ]
    }
   ],
   "source": [
    "Copy = obj_df.select_dtypes(include=['int64']).copy()\n",
    "\n",
    "Copy.replace({-1:\"__\"}, inplace=True)\n",
    "\n",
    "print(Copy)"
   ]
  },
  {
   "cell_type": "markdown",
   "id": "d3fa198d",
   "metadata": {},
   "source": [
    "## Visualization"
   ]
  },
  {
   "cell_type": "code",
   "execution_count": 228,
   "id": "5ce78744",
   "metadata": {},
   "outputs": [
    {
     "ename": "ValueError",
     "evalue": "Length of feature_names, 17 does not match number of features, 16",
     "output_type": "error",
     "traceback": [
      "\u001b[1;31m---------------------------------------------------------------------------\u001b[0m",
      "\u001b[1;31mValueError\u001b[0m                                Traceback (most recent call last)",
      "\u001b[1;32m<ipython-input-228-2b4f33c950ef>\u001b[0m in \u001b[0;36m<module>\u001b[1;34m\u001b[0m\n\u001b[0;32m      5\u001b[0m \u001b[0mclf_entropy\u001b[0m \u001b[1;33m=\u001b[0m \u001b[0mtrain_using_entropy\u001b[0m\u001b[1;33m(\u001b[0m\u001b[0mX_train\u001b[0m\u001b[1;33m,\u001b[0m \u001b[0mX_test\u001b[0m\u001b[1;33m,\u001b[0m \u001b[0my_train\u001b[0m\u001b[1;33m)\u001b[0m\u001b[1;33m\u001b[0m\u001b[1;33m\u001b[0m\u001b[0m\n\u001b[0;32m      6\u001b[0m \u001b[1;33m\u001b[0m\u001b[0m\n\u001b[1;32m----> 7\u001b[1;33m dot_data = tree.export_graphviz(clf_entropy, out_file=None, \n\u001b[0m\u001b[0;32m      8\u001b[0m                                 \u001b[0mfeature_names\u001b[0m\u001b[1;33m=\u001b[0m\u001b[0mobj_df\u001b[0m\u001b[1;33m.\u001b[0m\u001b[0mcolumns\u001b[0m\u001b[1;33m,\u001b[0m\u001b[0mclass_names\u001b[0m\u001b[1;33m=\u001b[0m\u001b[0mobj_df\u001b[0m\u001b[1;33m.\u001b[0m\u001b[0miterrows\u001b[0m\u001b[1;33m(\u001b[0m\u001b[1;33m)\u001b[0m\u001b[1;33m\u001b[0m\u001b[1;33m\u001b[0m\u001b[0m\n\u001b[0;32m      9\u001b[0m  \u001b[1;33m,\u001b[0m\u001b[1;33m\u001b[0m\u001b[1;33m\u001b[0m\u001b[0m\n",
      "\u001b[1;32m~\\anaconda3\\lib\\site-packages\\sklearn\\tree\\_export.py\u001b[0m in \u001b[0;36mexport_graphviz\u001b[1;34m(decision_tree, out_file, max_depth, feature_names, class_names, label, filled, leaves_parallel, impurity, node_ids, proportion, rotate, rounded, special_characters, precision, fontname)\u001b[0m\n\u001b[0;32m    888\u001b[0m             \u001b[0mfontname\u001b[0m\u001b[1;33m=\u001b[0m\u001b[0mfontname\u001b[0m\u001b[1;33m,\u001b[0m\u001b[1;33m\u001b[0m\u001b[1;33m\u001b[0m\u001b[0m\n\u001b[0;32m    889\u001b[0m         )\n\u001b[1;32m--> 890\u001b[1;33m         \u001b[0mexporter\u001b[0m\u001b[1;33m.\u001b[0m\u001b[0mexport\u001b[0m\u001b[1;33m(\u001b[0m\u001b[0mdecision_tree\u001b[0m\u001b[1;33m)\u001b[0m\u001b[1;33m\u001b[0m\u001b[1;33m\u001b[0m\u001b[0m\n\u001b[0m\u001b[0;32m    891\u001b[0m \u001b[1;33m\u001b[0m\u001b[0m\n\u001b[0;32m    892\u001b[0m         \u001b[1;32mif\u001b[0m \u001b[0mreturn_string\u001b[0m\u001b[1;33m:\u001b[0m\u001b[1;33m\u001b[0m\u001b[1;33m\u001b[0m\u001b[0m\n",
      "\u001b[1;32m~\\anaconda3\\lib\\site-packages\\sklearn\\tree\\_export.py\u001b[0m in \u001b[0;36mexport\u001b[1;34m(self, decision_tree)\u001b[0m\n\u001b[0;32m    450\u001b[0m         \u001b[1;32mif\u001b[0m \u001b[0mself\u001b[0m\u001b[1;33m.\u001b[0m\u001b[0mfeature_names\u001b[0m \u001b[1;32mis\u001b[0m \u001b[1;32mnot\u001b[0m \u001b[1;32mNone\u001b[0m\u001b[1;33m:\u001b[0m\u001b[1;33m\u001b[0m\u001b[1;33m\u001b[0m\u001b[0m\n\u001b[0;32m    451\u001b[0m             \u001b[1;32mif\u001b[0m \u001b[0mlen\u001b[0m\u001b[1;33m(\u001b[0m\u001b[0mself\u001b[0m\u001b[1;33m.\u001b[0m\u001b[0mfeature_names\u001b[0m\u001b[1;33m)\u001b[0m \u001b[1;33m!=\u001b[0m \u001b[0mdecision_tree\u001b[0m\u001b[1;33m.\u001b[0m\u001b[0mn_features_in_\u001b[0m\u001b[1;33m:\u001b[0m\u001b[1;33m\u001b[0m\u001b[1;33m\u001b[0m\u001b[0m\n\u001b[1;32m--> 452\u001b[1;33m                 raise ValueError(\n\u001b[0m\u001b[0;32m    453\u001b[0m                     \u001b[1;34m\"Length of feature_names, %d does not match number of features, %d\"\u001b[0m\u001b[1;33m\u001b[0m\u001b[1;33m\u001b[0m\u001b[0m\n\u001b[0;32m    454\u001b[0m                     \u001b[1;33m%\u001b[0m \u001b[1;33m(\u001b[0m\u001b[0mlen\u001b[0m\u001b[1;33m(\u001b[0m\u001b[0mself\u001b[0m\u001b[1;33m.\u001b[0m\u001b[0mfeature_names\u001b[0m\u001b[1;33m)\u001b[0m\u001b[1;33m,\u001b[0m \u001b[0mdecision_tree\u001b[0m\u001b[1;33m.\u001b[0m\u001b[0mn_features_in_\u001b[0m\u001b[1;33m)\u001b[0m\u001b[1;33m\u001b[0m\u001b[1;33m\u001b[0m\u001b[0m\n",
      "\u001b[1;31mValueError\u001b[0m: Length of feature_names, 17 does not match number of features, 16"
     ]
    }
   ],
   "source": [
    "import graphviz\n",
    "from sklearn import tree\n",
    "# DOT data\n",
    "\n",
    "clf_entropy = train_using_entropy(X_train, X_test, y_train)\n",
    "\n",
    "dot_data = tree.export_graphviz(clf_entropy, out_file=None, \n",
    "                                feature_names=obj_df.columns,class_names=obj_df.iterrows()\n",
    " ,\n",
    "                                filled=True)\n",
    "\n",
    "# Draw graph\n",
    "graph = graphviz.Source(dot_data, format=\"png\") \n",
    "graph"
   ]
  },
  {
   "cell_type": "code",
   "execution_count": 72,
   "id": "d04d6aaf",
   "metadata": {},
   "outputs": [
    {
     "name": "stdout",
     "output_type": "stream",
     "text": [
      "Requirement already satisfied: graphviz in c:\\users\\basant\\anaconda3\\lib\\site-packages (0.18.2)Note: you may need to restart the kernel to use updated packages.\n",
      "\n"
     ]
    }
   ],
   "source": [
    "pip install graphviz"
   ]
  },
  {
   "cell_type": "code",
   "execution_count": 71,
   "id": "64b7c29e",
   "metadata": {},
   "outputs": [
    {
     "name": "stdout",
     "output_type": "stream",
     "text": [
      "|--- feature_3 <= 0.50\n",
      "|   |--- feature_2 <= 0.50\n",
      "|   |   |--- feature_12 <= 0.50\n",
      "|   |   |   |--- class: 1\n",
      "|   |   |--- feature_12 >  0.50\n",
      "|   |   |   |--- class: 1\n",
      "|   |--- feature_2 >  0.50\n",
      "|   |   |--- class: 1\n",
      "|--- feature_3 >  0.50\n",
      "|   |--- feature_10 <= 0.50\n",
      "|   |   |--- feature_2 <= 0.50\n",
      "|   |   |   |--- class: 0\n",
      "|   |   |--- feature_2 >  0.50\n",
      "|   |   |   |--- class: 0\n",
      "|   |--- feature_10 >  0.50\n",
      "|   |   |--- feature_2 <= 0.50\n",
      "|   |   |   |--- class: 0\n",
      "|   |   |--- feature_2 >  0.50\n",
      "|   |   |   |--- class: 1\n",
      "\n"
     ]
    },
    {
     "data": {
      "image/png": "[encoded data removed]",
      "text/plain": [
       "<Figure size 1800x1440 with 1 Axes>"
      ]
     },
     "metadata": {
      "needs_background": "light"
     },
     "output_type": "display_data"
    }
   ],
   "source": [
    "import graphviz\n",
    "from sklearn import tree\n",
    "\n",
    "clf_entropy70 = train_using_entropy(X_train70, X_test70, y_train70)\n",
    "\n",
    "text_representation = tree.export_text(clf_entropy70)\n",
    "print(text_representation)\n",
    "\n",
    "with open(\"decistion_tree.log\", \"w\") as fout:\n",
    "    fout.write(text_representation)\n",
    "\n",
    "    \n",
    "fig = plt.figure(figsize=(25,20))\n",
    "_ = tree.plot_tree(clf_entropy70, \n",
    "                   feature_names=obj_df.columns,\n",
    "                   filled=True)"
   ]
  },
  {
   "cell_type": "code",
   "execution_count": 115,
   "id": "12199fa0",
   "metadata": {},
   "outputs": [],
   "source": [
    "fig.savefig(\"decistion_tree_BEST.png\")"
   ]
  },
  {
   "cell_type": "code",
   "execution_count": 240,
   "id": "00c65305",
   "metadata": {},
   "outputs": [],
   "source": []
  },
  {
   "cell_type": "code",
   "execution_count": 245,
   "id": "fc79929b",
   "metadata": {},
   "outputs": [
    {
     "ename": "SyntaxError",
     "evalue": "invalid syntax (<ipython-input-245-4488bbe460fd>, line 1)",
     "output_type": "error",
     "traceback": [
      "\u001b[1;36m  File \u001b[1;32m\"<ipython-input-245-4488bbe460fd>\"\u001b[1;36m, line \u001b[1;32m1\u001b[0m\n\u001b[1;33m    c[,0]\u001b[0m\n\u001b[1;37m      ^\u001b[0m\n\u001b[1;31mSyntaxError\u001b[0m\u001b[1;31m:\u001b[0m invalid syntax\n"
     ]
    }
   ],
   "source": []
  },
  {
   "cell_type": "code",
   "execution_count": null,
   "id": "22f24b9f",
   "metadata": {},
   "outputs": [],
   "source": []
  }
 ],
 "metadata": {
  "kernelspec": {
   "display_name": "Python 3",
   "language": "python",
   "name": "python3"
  },
  "language_info": {
   "codemirror_mode": {
    "name": "ipython",
    "version": 3
   },
   "file_extension": ".py",
   "mimetype": "text/x-python",
   "name": "python",
   "nbconvert_exporter": "python",
   "pygments_lexer": "ipython3",
   "version": "3.8.8"
  }
 },
 "nbformat": 4,
 "nbformat_minor": 5
}
